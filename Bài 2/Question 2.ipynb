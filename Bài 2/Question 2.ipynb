{
 "cells": [
  {
   "cell_type": "code",
   "execution_count": 2,
   "id": "84ea60dd",
   "metadata": {},
   "outputs": [],
   "source": [
    "#521H0438_NGUYỄN TẤN BẢO \n",
    "#REQUIRE 1"
   ]
  },
  {
   "cell_type": "code",
   "execution_count": 3,
   "id": "41af481e",
   "metadata": {},
   "outputs": [],
   "source": [
    "import pandas as pd\n",
    "import numpy as np\n",
    "import matplotlib.pyplot as plt"
   ]
  },
  {
   "cell_type": "code",
   "execution_count": 4,
   "id": "8a40f9e7",
   "metadata": {},
   "outputs": [],
   "source": [
    "df = pd.read_csv('data.csv', encoding = 'unicode_escape')"
   ]
  },
  {
   "cell_type": "code",
   "execution_count": 5,
   "id": "2f4c51e4",
   "metadata": {},
   "outputs": [
    {
     "data": {
      "text/html": [
       "<div>\n",
       "<style scoped>\n",
       "    .dataframe tbody tr th:only-of-type {\n",
       "        vertical-align: middle;\n",
       "    }\n",
       "\n",
       "    .dataframe tbody tr th {\n",
       "        vertical-align: top;\n",
       "    }\n",
       "\n",
       "    .dataframe thead th {\n",
       "        text-align: right;\n",
       "    }\n",
       "</style>\n",
       "<table border=\"1\" class=\"dataframe\">\n",
       "  <thead>\n",
       "    <tr style=\"text-align: right;\">\n",
       "      <th></th>\n",
       "      <th>ORDERNUMBER</th>\n",
       "      <th>QUANTITYORDERED</th>\n",
       "      <th>PRICEEACH</th>\n",
       "      <th>ORDERLINENUMBER</th>\n",
       "      <th>SALES</th>\n",
       "      <th>ORDERDATE</th>\n",
       "      <th>STATUS</th>\n",
       "      <th>QTR_ID</th>\n",
       "      <th>MONTH_ID</th>\n",
       "      <th>YEAR_ID</th>\n",
       "      <th>...</th>\n",
       "      <th>ADDRESSLINE1</th>\n",
       "      <th>ADDRESSLINE2</th>\n",
       "      <th>CITY</th>\n",
       "      <th>STATE</th>\n",
       "      <th>POSTALCODE</th>\n",
       "      <th>COUNTRY</th>\n",
       "      <th>TERRITORY</th>\n",
       "      <th>CONTACTLASTNAME</th>\n",
       "      <th>CONTACTFIRSTNAME</th>\n",
       "      <th>DEALSIZE</th>\n",
       "    </tr>\n",
       "  </thead>\n",
       "  <tbody>\n",
       "    <tr>\n",
       "      <th>0</th>\n",
       "      <td>10107</td>\n",
       "      <td>30</td>\n",
       "      <td>95.70</td>\n",
       "      <td>2</td>\n",
       "      <td>2871.00</td>\n",
       "      <td>2/24/2003 0:00</td>\n",
       "      <td>Shipped</td>\n",
       "      <td>1</td>\n",
       "      <td>2</td>\n",
       "      <td>2003</td>\n",
       "      <td>...</td>\n",
       "      <td>897 Long Airport Avenue</td>\n",
       "      <td>NaN</td>\n",
       "      <td>NYC</td>\n",
       "      <td>NY</td>\n",
       "      <td>10022</td>\n",
       "      <td>USA</td>\n",
       "      <td>NaN</td>\n",
       "      <td>Yu</td>\n",
       "      <td>Kwai</td>\n",
       "      <td>Small</td>\n",
       "    </tr>\n",
       "    <tr>\n",
       "      <th>1</th>\n",
       "      <td>10121</td>\n",
       "      <td>34</td>\n",
       "      <td>81.35</td>\n",
       "      <td>5</td>\n",
       "      <td>2765.90</td>\n",
       "      <td>5/7/2003 0:00</td>\n",
       "      <td>Shipped</td>\n",
       "      <td>2</td>\n",
       "      <td>5</td>\n",
       "      <td>2003</td>\n",
       "      <td>...</td>\n",
       "      <td>59 rue de l'Abbaye</td>\n",
       "      <td>NaN</td>\n",
       "      <td>Reims</td>\n",
       "      <td>NaN</td>\n",
       "      <td>51100</td>\n",
       "      <td>France</td>\n",
       "      <td>EMEA</td>\n",
       "      <td>Henriot</td>\n",
       "      <td>Paul</td>\n",
       "      <td>Small</td>\n",
       "    </tr>\n",
       "    <tr>\n",
       "      <th>2</th>\n",
       "      <td>10134</td>\n",
       "      <td>41</td>\n",
       "      <td>94.74</td>\n",
       "      <td>2</td>\n",
       "      <td>3884.34</td>\n",
       "      <td>7/1/2003 0:00</td>\n",
       "      <td>Shipped</td>\n",
       "      <td>3</td>\n",
       "      <td>7</td>\n",
       "      <td>2003</td>\n",
       "      <td>...</td>\n",
       "      <td>27 rue du Colonel Pierre Avia</td>\n",
       "      <td>NaN</td>\n",
       "      <td>Paris</td>\n",
       "      <td>NaN</td>\n",
       "      <td>75508</td>\n",
       "      <td>France</td>\n",
       "      <td>EMEA</td>\n",
       "      <td>Da Cunha</td>\n",
       "      <td>Daniel</td>\n",
       "      <td>Medium</td>\n",
       "    </tr>\n",
       "    <tr>\n",
       "      <th>3</th>\n",
       "      <td>10145</td>\n",
       "      <td>45</td>\n",
       "      <td>83.26</td>\n",
       "      <td>6</td>\n",
       "      <td>3746.70</td>\n",
       "      <td>8/25/2003 0:00</td>\n",
       "      <td>Shipped</td>\n",
       "      <td>3</td>\n",
       "      <td>8</td>\n",
       "      <td>2003</td>\n",
       "      <td>...</td>\n",
       "      <td>78934 Hillside Dr.</td>\n",
       "      <td>NaN</td>\n",
       "      <td>Pasadena</td>\n",
       "      <td>CA</td>\n",
       "      <td>90003</td>\n",
       "      <td>USA</td>\n",
       "      <td>NaN</td>\n",
       "      <td>Young</td>\n",
       "      <td>Julie</td>\n",
       "      <td>Medium</td>\n",
       "    </tr>\n",
       "    <tr>\n",
       "      <th>4</th>\n",
       "      <td>10159</td>\n",
       "      <td>49</td>\n",
       "      <td>100.00</td>\n",
       "      <td>14</td>\n",
       "      <td>5205.27</td>\n",
       "      <td>10/10/2003 0:00</td>\n",
       "      <td>Shipped</td>\n",
       "      <td>4</td>\n",
       "      <td>10</td>\n",
       "      <td>2003</td>\n",
       "      <td>...</td>\n",
       "      <td>7734 Strong St.</td>\n",
       "      <td>NaN</td>\n",
       "      <td>San Francisco</td>\n",
       "      <td>CA</td>\n",
       "      <td>NaN</td>\n",
       "      <td>USA</td>\n",
       "      <td>NaN</td>\n",
       "      <td>Brown</td>\n",
       "      <td>Julie</td>\n",
       "      <td>Medium</td>\n",
       "    </tr>\n",
       "  </tbody>\n",
       "</table>\n",
       "<p>5 rows × 25 columns</p>\n",
       "</div>"
      ],
      "text/plain": [
       "   ORDERNUMBER  QUANTITYORDERED  PRICEEACH  ORDERLINENUMBER    SALES  \\\n",
       "0        10107               30      95.70                2  2871.00   \n",
       "1        10121               34      81.35                5  2765.90   \n",
       "2        10134               41      94.74                2  3884.34   \n",
       "3        10145               45      83.26                6  3746.70   \n",
       "4        10159               49     100.00               14  5205.27   \n",
       "\n",
       "         ORDERDATE   STATUS  QTR_ID  MONTH_ID  YEAR_ID  ...  \\\n",
       "0   2/24/2003 0:00  Shipped       1         2     2003  ...   \n",
       "1    5/7/2003 0:00  Shipped       2         5     2003  ...   \n",
       "2    7/1/2003 0:00  Shipped       3         7     2003  ...   \n",
       "3   8/25/2003 0:00  Shipped       3         8     2003  ...   \n",
       "4  10/10/2003 0:00  Shipped       4        10     2003  ...   \n",
       "\n",
       "                    ADDRESSLINE1  ADDRESSLINE2           CITY STATE  \\\n",
       "0        897 Long Airport Avenue           NaN            NYC    NY   \n",
       "1             59 rue de l'Abbaye           NaN          Reims   NaN   \n",
       "2  27 rue du Colonel Pierre Avia           NaN          Paris   NaN   \n",
       "3             78934 Hillside Dr.           NaN       Pasadena    CA   \n",
       "4                7734 Strong St.           NaN  San Francisco    CA   \n",
       "\n",
       "  POSTALCODE COUNTRY TERRITORY CONTACTLASTNAME CONTACTFIRSTNAME DEALSIZE  \n",
       "0      10022     USA       NaN              Yu             Kwai    Small  \n",
       "1      51100  France      EMEA         Henriot             Paul    Small  \n",
       "2      75508  France      EMEA        Da Cunha           Daniel   Medium  \n",
       "3      90003     USA       NaN           Young            Julie   Medium  \n",
       "4        NaN     USA       NaN           Brown            Julie   Medium  \n",
       "\n",
       "[5 rows x 25 columns]"
      ]
     },
     "execution_count": 5,
     "metadata": {},
     "output_type": "execute_result"
    }
   ],
   "source": [
    "df.head()"
   ]
  },
  {
   "cell_type": "code",
   "execution_count": 6,
   "id": "729b3f00",
   "metadata": {},
   "outputs": [
    {
     "data": {
      "text/plain": [
       "(2823, 25)"
      ]
     },
     "execution_count": 6,
     "metadata": {},
     "output_type": "execute_result"
    }
   ],
   "source": [
    "df.shape"
   ]
  },
  {
   "cell_type": "code",
   "execution_count": 7,
   "id": "c5ac6820",
   "metadata": {},
   "outputs": [
    {
     "name": "stdout",
     "output_type": "stream",
     "text": [
      "<class 'pandas.core.frame.DataFrame'>\n",
      "RangeIndex: 2823 entries, 0 to 2822\n",
      "Data columns (total 25 columns):\n",
      " #   Column            Non-Null Count  Dtype  \n",
      "---  ------            --------------  -----  \n",
      " 0   ORDERNUMBER       2823 non-null   int64  \n",
      " 1   QUANTITYORDERED   2823 non-null   int64  \n",
      " 2   PRICEEACH         2823 non-null   float64\n",
      " 3   ORDERLINENUMBER   2823 non-null   int64  \n",
      " 4   SALES             2823 non-null   float64\n",
      " 5   ORDERDATE         2823 non-null   object \n",
      " 6   STATUS            2823 non-null   object \n",
      " 7   QTR_ID            2823 non-null   int64  \n",
      " 8   MONTH_ID          2823 non-null   int64  \n",
      " 9   YEAR_ID           2823 non-null   int64  \n",
      " 10  PRODUCTLINE       2823 non-null   object \n",
      " 11  MSRP              2823 non-null   int64  \n",
      " 12  PRODUCTCODE       2823 non-null   object \n",
      " 13  CUSTOMERNAME      2823 non-null   object \n",
      " 14  PHONE             2823 non-null   object \n",
      " 15  ADDRESSLINE1      2823 non-null   object \n",
      " 16  ADDRESSLINE2      302 non-null    object \n",
      " 17  CITY              2823 non-null   object \n",
      " 18  STATE             1337 non-null   object \n",
      " 19  POSTALCODE        2747 non-null   object \n",
      " 20  COUNTRY           2823 non-null   object \n",
      " 21  TERRITORY         1749 non-null   object \n",
      " 22  CONTACTLASTNAME   2823 non-null   object \n",
      " 23  CONTACTFIRSTNAME  2823 non-null   object \n",
      " 24  DEALSIZE          2823 non-null   object \n",
      "dtypes: float64(2), int64(7), object(16)\n",
      "memory usage: 551.5+ KB\n"
     ]
    }
   ],
   "source": [
    "df.info()"
   ]
  },
  {
   "cell_type": "code",
   "execution_count": 8,
   "id": "2ec196ca",
   "metadata": {},
   "outputs": [
    {
     "data": {
      "text/plain": [
       "0"
      ]
     },
     "execution_count": 8,
     "metadata": {},
     "output_type": "execute_result"
    }
   ],
   "source": [
    "df.duplicated().sum()"
   ]
  },
  {
   "cell_type": "code",
   "execution_count": 9,
   "id": "3abab2bb",
   "metadata": {},
   "outputs": [
    {
     "data": {
      "text/plain": [
       "ORDERNUMBER            0\n",
       "QUANTITYORDERED        0\n",
       "PRICEEACH              0\n",
       "ORDERLINENUMBER        0\n",
       "SALES                  0\n",
       "ORDERDATE              0\n",
       "STATUS                 0\n",
       "QTR_ID                 0\n",
       "MONTH_ID               0\n",
       "YEAR_ID                0\n",
       "PRODUCTLINE            0\n",
       "MSRP                   0\n",
       "PRODUCTCODE            0\n",
       "CUSTOMERNAME           0\n",
       "PHONE                  0\n",
       "ADDRESSLINE1           0\n",
       "ADDRESSLINE2        2521\n",
       "CITY                   0\n",
       "STATE               1486\n",
       "POSTALCODE            76\n",
       "COUNTRY                0\n",
       "TERRITORY           1074\n",
       "CONTACTLASTNAME        0\n",
       "CONTACTFIRSTNAME       0\n",
       "DEALSIZE               0\n",
       "dtype: int64"
      ]
     },
     "execution_count": 9,
     "metadata": {},
     "output_type": "execute_result"
    }
   ],
   "source": [
    "df.isnull().sum()"
   ]
  },
  {
   "cell_type": "code",
   "execution_count": 10,
   "id": "0f738bd3",
   "metadata": {},
   "outputs": [],
   "source": [
    "#Ham dien cac gia tri thieu bang cac gia tri xuat hien nhieu lan\n",
    "def impute_most_frequent_labels(df):\n",
    "    # List nhung cot co gia tri rong\n",
    "    columns_to_impute = [\"STATE\", \"POSTALCODE\", \"TERRITORY\"]\n",
    "\n",
    "    for column in columns_to_impute:\n",
    "        most_occuring_label = df[column].mode()[0]\n",
    "        df[column].fillna(most_occuring_label, inplace=True)\n",
    "\n",
    "    return df\n",
    "\n",
    "df = impute_most_frequent_labels(df)"
   ]
  },
  {
   "cell_type": "code",
   "execution_count": 11,
   "id": "a69a2004",
   "metadata": {},
   "outputs": [],
   "source": [
    "df.drop(['ADDRESSLINE2','ORDERDATE','PHONE','CUSTOMERNAME','CONTACTLASTNAME','CONTACTFIRSTNAME'],axis=1, inplace = True)"
   ]
  },
  {
   "cell_type": "code",
   "execution_count": 12,
   "id": "5e400791",
   "metadata": {},
   "outputs": [
    {
     "data": {
      "text/html": [
       "<div>\n",
       "<style scoped>\n",
       "    .dataframe tbody tr th:only-of-type {\n",
       "        vertical-align: middle;\n",
       "    }\n",
       "\n",
       "    .dataframe tbody tr th {\n",
       "        vertical-align: top;\n",
       "    }\n",
       "\n",
       "    .dataframe thead th {\n",
       "        text-align: right;\n",
       "    }\n",
       "</style>\n",
       "<table border=\"1\" class=\"dataframe\">\n",
       "  <thead>\n",
       "    <tr style=\"text-align: right;\">\n",
       "      <th></th>\n",
       "      <th>ORDERNUMBER</th>\n",
       "      <th>QUANTITYORDERED</th>\n",
       "      <th>PRICEEACH</th>\n",
       "      <th>ORDERLINENUMBER</th>\n",
       "      <th>SALES</th>\n",
       "      <th>STATUS</th>\n",
       "      <th>QTR_ID</th>\n",
       "      <th>MONTH_ID</th>\n",
       "      <th>YEAR_ID</th>\n",
       "      <th>PRODUCTLINE</th>\n",
       "      <th>MSRP</th>\n",
       "      <th>PRODUCTCODE</th>\n",
       "      <th>ADDRESSLINE1</th>\n",
       "      <th>CITY</th>\n",
       "      <th>STATE</th>\n",
       "      <th>POSTALCODE</th>\n",
       "      <th>COUNTRY</th>\n",
       "      <th>TERRITORY</th>\n",
       "      <th>DEALSIZE</th>\n",
       "    </tr>\n",
       "  </thead>\n",
       "  <tbody>\n",
       "    <tr>\n",
       "      <th>0</th>\n",
       "      <td>10107</td>\n",
       "      <td>30</td>\n",
       "      <td>95.70</td>\n",
       "      <td>2</td>\n",
       "      <td>2871.00</td>\n",
       "      <td>Shipped</td>\n",
       "      <td>1</td>\n",
       "      <td>2</td>\n",
       "      <td>2003</td>\n",
       "      <td>Motorcycles</td>\n",
       "      <td>95</td>\n",
       "      <td>S10_1678</td>\n",
       "      <td>897 Long Airport Avenue</td>\n",
       "      <td>NYC</td>\n",
       "      <td>NY</td>\n",
       "      <td>10022</td>\n",
       "      <td>USA</td>\n",
       "      <td>EMEA</td>\n",
       "      <td>Small</td>\n",
       "    </tr>\n",
       "    <tr>\n",
       "      <th>1</th>\n",
       "      <td>10121</td>\n",
       "      <td>34</td>\n",
       "      <td>81.35</td>\n",
       "      <td>5</td>\n",
       "      <td>2765.90</td>\n",
       "      <td>Shipped</td>\n",
       "      <td>2</td>\n",
       "      <td>5</td>\n",
       "      <td>2003</td>\n",
       "      <td>Motorcycles</td>\n",
       "      <td>95</td>\n",
       "      <td>S10_1678</td>\n",
       "      <td>59 rue de l'Abbaye</td>\n",
       "      <td>Reims</td>\n",
       "      <td>CA</td>\n",
       "      <td>51100</td>\n",
       "      <td>France</td>\n",
       "      <td>EMEA</td>\n",
       "      <td>Small</td>\n",
       "    </tr>\n",
       "    <tr>\n",
       "      <th>2</th>\n",
       "      <td>10134</td>\n",
       "      <td>41</td>\n",
       "      <td>94.74</td>\n",
       "      <td>2</td>\n",
       "      <td>3884.34</td>\n",
       "      <td>Shipped</td>\n",
       "      <td>3</td>\n",
       "      <td>7</td>\n",
       "      <td>2003</td>\n",
       "      <td>Motorcycles</td>\n",
       "      <td>95</td>\n",
       "      <td>S10_1678</td>\n",
       "      <td>27 rue du Colonel Pierre Avia</td>\n",
       "      <td>Paris</td>\n",
       "      <td>CA</td>\n",
       "      <td>75508</td>\n",
       "      <td>France</td>\n",
       "      <td>EMEA</td>\n",
       "      <td>Medium</td>\n",
       "    </tr>\n",
       "    <tr>\n",
       "      <th>3</th>\n",
       "      <td>10145</td>\n",
       "      <td>45</td>\n",
       "      <td>83.26</td>\n",
       "      <td>6</td>\n",
       "      <td>3746.70</td>\n",
       "      <td>Shipped</td>\n",
       "      <td>3</td>\n",
       "      <td>8</td>\n",
       "      <td>2003</td>\n",
       "      <td>Motorcycles</td>\n",
       "      <td>95</td>\n",
       "      <td>S10_1678</td>\n",
       "      <td>78934 Hillside Dr.</td>\n",
       "      <td>Pasadena</td>\n",
       "      <td>CA</td>\n",
       "      <td>90003</td>\n",
       "      <td>USA</td>\n",
       "      <td>EMEA</td>\n",
       "      <td>Medium</td>\n",
       "    </tr>\n",
       "    <tr>\n",
       "      <th>4</th>\n",
       "      <td>10159</td>\n",
       "      <td>49</td>\n",
       "      <td>100.00</td>\n",
       "      <td>14</td>\n",
       "      <td>5205.27</td>\n",
       "      <td>Shipped</td>\n",
       "      <td>4</td>\n",
       "      <td>10</td>\n",
       "      <td>2003</td>\n",
       "      <td>Motorcycles</td>\n",
       "      <td>95</td>\n",
       "      <td>S10_1678</td>\n",
       "      <td>7734 Strong St.</td>\n",
       "      <td>San Francisco</td>\n",
       "      <td>CA</td>\n",
       "      <td>28034</td>\n",
       "      <td>USA</td>\n",
       "      <td>EMEA</td>\n",
       "      <td>Medium</td>\n",
       "    </tr>\n",
       "    <tr>\n",
       "      <th>...</th>\n",
       "      <td>...</td>\n",
       "      <td>...</td>\n",
       "      <td>...</td>\n",
       "      <td>...</td>\n",
       "      <td>...</td>\n",
       "      <td>...</td>\n",
       "      <td>...</td>\n",
       "      <td>...</td>\n",
       "      <td>...</td>\n",
       "      <td>...</td>\n",
       "      <td>...</td>\n",
       "      <td>...</td>\n",
       "      <td>...</td>\n",
       "      <td>...</td>\n",
       "      <td>...</td>\n",
       "      <td>...</td>\n",
       "      <td>...</td>\n",
       "      <td>...</td>\n",
       "      <td>...</td>\n",
       "    </tr>\n",
       "    <tr>\n",
       "      <th>2818</th>\n",
       "      <td>10350</td>\n",
       "      <td>20</td>\n",
       "      <td>100.00</td>\n",
       "      <td>15</td>\n",
       "      <td>2244.40</td>\n",
       "      <td>Shipped</td>\n",
       "      <td>4</td>\n",
       "      <td>12</td>\n",
       "      <td>2004</td>\n",
       "      <td>Ships</td>\n",
       "      <td>54</td>\n",
       "      <td>S72_3212</td>\n",
       "      <td>C/ Moralzarzal, 86</td>\n",
       "      <td>Madrid</td>\n",
       "      <td>CA</td>\n",
       "      <td>28034</td>\n",
       "      <td>Spain</td>\n",
       "      <td>EMEA</td>\n",
       "      <td>Small</td>\n",
       "    </tr>\n",
       "    <tr>\n",
       "      <th>2819</th>\n",
       "      <td>10373</td>\n",
       "      <td>29</td>\n",
       "      <td>100.00</td>\n",
       "      <td>1</td>\n",
       "      <td>3978.51</td>\n",
       "      <td>Shipped</td>\n",
       "      <td>1</td>\n",
       "      <td>1</td>\n",
       "      <td>2005</td>\n",
       "      <td>Ships</td>\n",
       "      <td>54</td>\n",
       "      <td>S72_3212</td>\n",
       "      <td>Torikatu 38</td>\n",
       "      <td>Oulu</td>\n",
       "      <td>CA</td>\n",
       "      <td>90110</td>\n",
       "      <td>Finland</td>\n",
       "      <td>EMEA</td>\n",
       "      <td>Medium</td>\n",
       "    </tr>\n",
       "    <tr>\n",
       "      <th>2820</th>\n",
       "      <td>10386</td>\n",
       "      <td>43</td>\n",
       "      <td>100.00</td>\n",
       "      <td>4</td>\n",
       "      <td>5417.57</td>\n",
       "      <td>Resolved</td>\n",
       "      <td>1</td>\n",
       "      <td>3</td>\n",
       "      <td>2005</td>\n",
       "      <td>Ships</td>\n",
       "      <td>54</td>\n",
       "      <td>S72_3212</td>\n",
       "      <td>C/ Moralzarzal, 86</td>\n",
       "      <td>Madrid</td>\n",
       "      <td>CA</td>\n",
       "      <td>28034</td>\n",
       "      <td>Spain</td>\n",
       "      <td>EMEA</td>\n",
       "      <td>Medium</td>\n",
       "    </tr>\n",
       "    <tr>\n",
       "      <th>2821</th>\n",
       "      <td>10397</td>\n",
       "      <td>34</td>\n",
       "      <td>62.24</td>\n",
       "      <td>1</td>\n",
       "      <td>2116.16</td>\n",
       "      <td>Shipped</td>\n",
       "      <td>1</td>\n",
       "      <td>3</td>\n",
       "      <td>2005</td>\n",
       "      <td>Ships</td>\n",
       "      <td>54</td>\n",
       "      <td>S72_3212</td>\n",
       "      <td>1 rue Alsace-Lorraine</td>\n",
       "      <td>Toulouse</td>\n",
       "      <td>CA</td>\n",
       "      <td>31000</td>\n",
       "      <td>France</td>\n",
       "      <td>EMEA</td>\n",
       "      <td>Small</td>\n",
       "    </tr>\n",
       "    <tr>\n",
       "      <th>2822</th>\n",
       "      <td>10414</td>\n",
       "      <td>47</td>\n",
       "      <td>65.52</td>\n",
       "      <td>9</td>\n",
       "      <td>3079.44</td>\n",
       "      <td>On Hold</td>\n",
       "      <td>2</td>\n",
       "      <td>5</td>\n",
       "      <td>2005</td>\n",
       "      <td>Ships</td>\n",
       "      <td>54</td>\n",
       "      <td>S72_3212</td>\n",
       "      <td>8616 Spinnaker Dr.</td>\n",
       "      <td>Boston</td>\n",
       "      <td>MA</td>\n",
       "      <td>51003</td>\n",
       "      <td>USA</td>\n",
       "      <td>EMEA</td>\n",
       "      <td>Medium</td>\n",
       "    </tr>\n",
       "  </tbody>\n",
       "</table>\n",
       "<p>2823 rows × 19 columns</p>\n",
       "</div>"
      ],
      "text/plain": [
       "      ORDERNUMBER  QUANTITYORDERED  PRICEEACH  ORDERLINENUMBER    SALES  \\\n",
       "0           10107               30      95.70                2  2871.00   \n",
       "1           10121               34      81.35                5  2765.90   \n",
       "2           10134               41      94.74                2  3884.34   \n",
       "3           10145               45      83.26                6  3746.70   \n",
       "4           10159               49     100.00               14  5205.27   \n",
       "...           ...              ...        ...              ...      ...   \n",
       "2818        10350               20     100.00               15  2244.40   \n",
       "2819        10373               29     100.00                1  3978.51   \n",
       "2820        10386               43     100.00                4  5417.57   \n",
       "2821        10397               34      62.24                1  2116.16   \n",
       "2822        10414               47      65.52                9  3079.44   \n",
       "\n",
       "        STATUS  QTR_ID  MONTH_ID  YEAR_ID  PRODUCTLINE  MSRP PRODUCTCODE  \\\n",
       "0      Shipped       1         2     2003  Motorcycles    95    S10_1678   \n",
       "1      Shipped       2         5     2003  Motorcycles    95    S10_1678   \n",
       "2      Shipped       3         7     2003  Motorcycles    95    S10_1678   \n",
       "3      Shipped       3         8     2003  Motorcycles    95    S10_1678   \n",
       "4      Shipped       4        10     2003  Motorcycles    95    S10_1678   \n",
       "...        ...     ...       ...      ...          ...   ...         ...   \n",
       "2818   Shipped       4        12     2004        Ships    54    S72_3212   \n",
       "2819   Shipped       1         1     2005        Ships    54    S72_3212   \n",
       "2820  Resolved       1         3     2005        Ships    54    S72_3212   \n",
       "2821   Shipped       1         3     2005        Ships    54    S72_3212   \n",
       "2822   On Hold       2         5     2005        Ships    54    S72_3212   \n",
       "\n",
       "                       ADDRESSLINE1           CITY STATE POSTALCODE  COUNTRY  \\\n",
       "0           897 Long Airport Avenue            NYC    NY      10022      USA   \n",
       "1                59 rue de l'Abbaye          Reims    CA      51100   France   \n",
       "2     27 rue du Colonel Pierre Avia          Paris    CA      75508   France   \n",
       "3                78934 Hillside Dr.       Pasadena    CA      90003      USA   \n",
       "4                   7734 Strong St.  San Francisco    CA      28034      USA   \n",
       "...                             ...            ...   ...        ...      ...   \n",
       "2818             C/ Moralzarzal, 86         Madrid    CA      28034    Spain   \n",
       "2819                    Torikatu 38           Oulu    CA      90110  Finland   \n",
       "2820             C/ Moralzarzal, 86         Madrid    CA      28034    Spain   \n",
       "2821          1 rue Alsace-Lorraine       Toulouse    CA      31000   France   \n",
       "2822             8616 Spinnaker Dr.         Boston    MA      51003      USA   \n",
       "\n",
       "     TERRITORY DEALSIZE  \n",
       "0         EMEA    Small  \n",
       "1         EMEA    Small  \n",
       "2         EMEA   Medium  \n",
       "3         EMEA   Medium  \n",
       "4         EMEA   Medium  \n",
       "...        ...      ...  \n",
       "2818      EMEA    Small  \n",
       "2819      EMEA   Medium  \n",
       "2820      EMEA   Medium  \n",
       "2821      EMEA    Small  \n",
       "2822      EMEA   Medium  \n",
       "\n",
       "[2823 rows x 19 columns]"
      ]
     },
     "execution_count": 12,
     "metadata": {},
     "output_type": "execute_result"
    }
   ],
   "source": [
    "df"
   ]
  },
  {
   "cell_type": "code",
   "execution_count": 13,
   "id": "964f34ec",
   "metadata": {},
   "outputs": [],
   "source": [
    "# Visualize"
   ]
  },
  {
   "cell_type": "code",
   "execution_count": 14,
   "id": "37b867d6",
   "metadata": {},
   "outputs": [
    {
     "data": {
      "image/png": "[encoded data removed]",
      "text/plain": [
       "<Figure size 1000x600 with 1 Axes>"
      ]
     },
     "metadata": {},
     "output_type": "display_data"
    }
   ],
   "source": [
    "\n",
    "# Filter data for orders with STATUS 'Shipped'\n",
    "shipped_data = df[df['STATUS'] == 'Shipped']\n",
    "\n",
    "# Count the number of shipped orders for each year\n",
    "shipped_counts_by_year = shipped_data.groupby('YEAR_ID').size()\n",
    "\n",
    "# Plotting\n",
    "plt.figure(figsize=(10, 6))\n",
    "shipped_counts_by_year.plot(kind='bar', color='skyblue')\n",
    "plt.title('Number of orders were shipped')\n",
    "plt.xlabel('Year')\n",
    "plt.ylabel('Number of Orders')\n",
    "plt.show()"
   ]
  },
  {
   "cell_type": "code",
   "execution_count": 15,
   "id": "5b4afb67",
   "metadata": {},
   "outputs": [
    {
     "data": {
      "image/png": "[encoded data removed]",
      "text/plain": [
       "<Figure size 1000x600 with 1 Axes>"
      ]
     },
     "metadata": {},
     "output_type": "display_data"
    }
   ],
   "source": [
    "# Filter data for orders in the year 2003 with STATUS 'Shipped'\n",
    "shipped_data_2003 = df[(df['STATUS'] == 'Shipped') & (df['YEAR_ID'] == 2003)]\n",
    "\n",
    "# Count the number of shipped orders for each month in 2003\n",
    "shipped_counts_by_month_2003 = shipped_data_2003.groupby('MONTH_ID').size()\n",
    "\n",
    "# Plotting\n",
    "plt.figure(figsize=(10, 6))\n",
    "shipped_counts_by_month_2003.plot(kind='bar', color='skyblue')\n",
    "plt.title('Number of Orders with STATUS \"Shipped\" in 2003 ')\n",
    "\n",
    "\n",
    "plt.xlabel('Month')\n",
    "plt.ylabel('Number of Orders')\n",
    "plt.show()"
   ]
  },
  {
   "cell_type": "code",
   "execution_count": 16,
   "id": "72b452eb",
   "metadata": {},
   "outputs": [
    {
     "data": {
      "image/png": "[encoded data removed]",
      "text/plain": [
       "<Figure size 1000x600 with 1 Axes>"
      ]
     },
     "metadata": {},
     "output_type": "display_data"
    }
   ],
   "source": [
    "# Filter data for orders in the year 2003 with STATUS 'Shipped'\n",
    "shipped_data_2003 = df[(df['STATUS'] == 'Shipped') & (df['YEAR_ID'] == 2004)]\n",
    "\n",
    "# Count the number of shipped orders for each month in 2003\n",
    "shipped_counts_by_month_2003 = shipped_data_2003.groupby('MONTH_ID').size()\n",
    "\n",
    "# Plotting\n",
    "plt.figure(figsize=(10, 6))\n",
    "shipped_counts_by_month_2003.plot(kind='bar', color='#F333')\n",
    "plt.title('Number of Orders with STATUS \"Shipped\" in 2004 ')\n",
    "plt.xlabel('Month')\n",
    "plt.ylabel('Number of Orders')\n",
    "plt.show()"
   ]
  },
  {
   "cell_type": "code",
   "execution_count": 17,
   "id": "0895842c",
   "metadata": {},
   "outputs": [
    {
     "data": {
      "image/png": "[encoded data removed]",
      "text/plain": [
       "<Figure size 1000x600 with 1 Axes>"
      ]
     },
     "metadata": {},
     "output_type": "display_data"
    }
   ],
   "source": [
    "# Filter data for orders in the year 2003 with STATUS 'Shipped'\n",
    "shipped_data_2003 = df[(df['STATUS'] == 'Shipped') & (df['YEAR_ID'] == 2005)]\n",
    "\n",
    "# Count the number of shipped orders for each month in 2003\n",
    "shipped_counts_by_month_2003 = shipped_data_2003.groupby('MONTH_ID').size()\n",
    "\n",
    "# Plotting\n",
    "plt.figure(figsize=(10, 6))\n",
    "shipped_counts_by_month_2003.plot(kind='bar', color='#F19281')\n",
    "plt.title('Number of Orders with STATUS \"Shipped\" in 2005 ')\n",
    "plt.xlabel('Month')\n",
    "plt.ylabel('Number of Orders')\n",
    "plt.show()"
   ]
  },
  {
   "cell_type": "code",
   "execution_count": 18,
   "id": "ca380408",
   "metadata": {},
   "outputs": [
    {
     "data": {
      "text/plain": [
       "Shipped       2617\n",
       "Cancelled       60\n",
       "Resolved        47\n",
       "On Hold         44\n",
       "In Process      41\n",
       "Disputed        14\n",
       "Name: STATUS, dtype: int64"
      ]
     },
     "execution_count": 18,
     "metadata": {},
     "output_type": "execute_result"
    }
   ],
   "source": [
    "df.STATUS.value_counts()"
   ]
  },
  {
   "cell_type": "code",
   "execution_count": 19,
   "id": "ed23e4d4",
   "metadata": {},
   "outputs": [],
   "source": [
    "df['STATUS'] = df['STATUS'].replace(['Shipped','Cancelled','Resolved','On Hold','In Process','Disputed'],['1','0','0','0','0','0'])"
   ]
  },
  {
   "cell_type": "code",
   "execution_count": 20,
   "id": "f5062e0c",
   "metadata": {},
   "outputs": [
    {
     "data": {
      "text/plain": [
       "1    2617\n",
       "0     206\n",
       "Name: STATUS, dtype: int64"
      ]
     },
     "execution_count": 20,
     "metadata": {},
     "output_type": "execute_result"
    }
   ],
   "source": [
    "df.STATUS.value_counts()"
   ]
  },
  {
   "cell_type": "code",
   "execution_count": 21,
   "id": "d38f9f79",
   "metadata": {},
   "outputs": [
    {
     "data": {
      "text/html": [
       "<div>\n",
       "<style scoped>\n",
       "    .dataframe tbody tr th:only-of-type {\n",
       "        vertical-align: middle;\n",
       "    }\n",
       "\n",
       "    .dataframe tbody tr th {\n",
       "        vertical-align: top;\n",
       "    }\n",
       "\n",
       "    .dataframe thead th {\n",
       "        text-align: right;\n",
       "    }\n",
       "</style>\n",
       "<table border=\"1\" class=\"dataframe\">\n",
       "  <thead>\n",
       "    <tr style=\"text-align: right;\">\n",
       "      <th></th>\n",
       "      <th>ORDERNUMBER</th>\n",
       "      <th>QUANTITYORDERED</th>\n",
       "      <th>PRICEEACH</th>\n",
       "      <th>ORDERLINENUMBER</th>\n",
       "      <th>SALES</th>\n",
       "      <th>STATUS</th>\n",
       "      <th>QTR_ID</th>\n",
       "      <th>MONTH_ID</th>\n",
       "      <th>YEAR_ID</th>\n",
       "      <th>PRODUCTLINE</th>\n",
       "      <th>MSRP</th>\n",
       "      <th>PRODUCTCODE</th>\n",
       "      <th>ADDRESSLINE1</th>\n",
       "      <th>CITY</th>\n",
       "      <th>STATE</th>\n",
       "      <th>POSTALCODE</th>\n",
       "      <th>COUNTRY</th>\n",
       "      <th>TERRITORY</th>\n",
       "      <th>DEALSIZE</th>\n",
       "    </tr>\n",
       "  </thead>\n",
       "  <tbody>\n",
       "    <tr>\n",
       "      <th>0</th>\n",
       "      <td>10107</td>\n",
       "      <td>30</td>\n",
       "      <td>95.70</td>\n",
       "      <td>2</td>\n",
       "      <td>2871.00</td>\n",
       "      <td>1</td>\n",
       "      <td>1</td>\n",
       "      <td>2</td>\n",
       "      <td>2003</td>\n",
       "      <td>Motorcycles</td>\n",
       "      <td>95</td>\n",
       "      <td>S10_1678</td>\n",
       "      <td>897 Long Airport Avenue</td>\n",
       "      <td>NYC</td>\n",
       "      <td>NY</td>\n",
       "      <td>10022</td>\n",
       "      <td>USA</td>\n",
       "      <td>EMEA</td>\n",
       "      <td>Small</td>\n",
       "    </tr>\n",
       "    <tr>\n",
       "      <th>1</th>\n",
       "      <td>10121</td>\n",
       "      <td>34</td>\n",
       "      <td>81.35</td>\n",
       "      <td>5</td>\n",
       "      <td>2765.90</td>\n",
       "      <td>1</td>\n",
       "      <td>2</td>\n",
       "      <td>5</td>\n",
       "      <td>2003</td>\n",
       "      <td>Motorcycles</td>\n",
       "      <td>95</td>\n",
       "      <td>S10_1678</td>\n",
       "      <td>59 rue de l'Abbaye</td>\n",
       "      <td>Reims</td>\n",
       "      <td>CA</td>\n",
       "      <td>51100</td>\n",
       "      <td>France</td>\n",
       "      <td>EMEA</td>\n",
       "      <td>Small</td>\n",
       "    </tr>\n",
       "    <tr>\n",
       "      <th>2</th>\n",
       "      <td>10134</td>\n",
       "      <td>41</td>\n",
       "      <td>94.74</td>\n",
       "      <td>2</td>\n",
       "      <td>3884.34</td>\n",
       "      <td>1</td>\n",
       "      <td>3</td>\n",
       "      <td>7</td>\n",
       "      <td>2003</td>\n",
       "      <td>Motorcycles</td>\n",
       "      <td>95</td>\n",
       "      <td>S10_1678</td>\n",
       "      <td>27 rue du Colonel Pierre Avia</td>\n",
       "      <td>Paris</td>\n",
       "      <td>CA</td>\n",
       "      <td>75508</td>\n",
       "      <td>France</td>\n",
       "      <td>EMEA</td>\n",
       "      <td>Medium</td>\n",
       "    </tr>\n",
       "    <tr>\n",
       "      <th>3</th>\n",
       "      <td>10145</td>\n",
       "      <td>45</td>\n",
       "      <td>83.26</td>\n",
       "      <td>6</td>\n",
       "      <td>3746.70</td>\n",
       "      <td>1</td>\n",
       "      <td>3</td>\n",
       "      <td>8</td>\n",
       "      <td>2003</td>\n",
       "      <td>Motorcycles</td>\n",
       "      <td>95</td>\n",
       "      <td>S10_1678</td>\n",
       "      <td>78934 Hillside Dr.</td>\n",
       "      <td>Pasadena</td>\n",
       "      <td>CA</td>\n",
       "      <td>90003</td>\n",
       "      <td>USA</td>\n",
       "      <td>EMEA</td>\n",
       "      <td>Medium</td>\n",
       "    </tr>\n",
       "    <tr>\n",
       "      <th>4</th>\n",
       "      <td>10159</td>\n",
       "      <td>49</td>\n",
       "      <td>100.00</td>\n",
       "      <td>14</td>\n",
       "      <td>5205.27</td>\n",
       "      <td>1</td>\n",
       "      <td>4</td>\n",
       "      <td>10</td>\n",
       "      <td>2003</td>\n",
       "      <td>Motorcycles</td>\n",
       "      <td>95</td>\n",
       "      <td>S10_1678</td>\n",
       "      <td>7734 Strong St.</td>\n",
       "      <td>San Francisco</td>\n",
       "      <td>CA</td>\n",
       "      <td>28034</td>\n",
       "      <td>USA</td>\n",
       "      <td>EMEA</td>\n",
       "      <td>Medium</td>\n",
       "    </tr>\n",
       "    <tr>\n",
       "      <th>...</th>\n",
       "      <td>...</td>\n",
       "      <td>...</td>\n",
       "      <td>...</td>\n",
       "      <td>...</td>\n",
       "      <td>...</td>\n",
       "      <td>...</td>\n",
       "      <td>...</td>\n",
       "      <td>...</td>\n",
       "      <td>...</td>\n",
       "      <td>...</td>\n",
       "      <td>...</td>\n",
       "      <td>...</td>\n",
       "      <td>...</td>\n",
       "      <td>...</td>\n",
       "      <td>...</td>\n",
       "      <td>...</td>\n",
       "      <td>...</td>\n",
       "      <td>...</td>\n",
       "      <td>...</td>\n",
       "    </tr>\n",
       "    <tr>\n",
       "      <th>2818</th>\n",
       "      <td>10350</td>\n",
       "      <td>20</td>\n",
       "      <td>100.00</td>\n",
       "      <td>15</td>\n",
       "      <td>2244.40</td>\n",
       "      <td>1</td>\n",
       "      <td>4</td>\n",
       "      <td>12</td>\n",
       "      <td>2004</td>\n",
       "      <td>Ships</td>\n",
       "      <td>54</td>\n",
       "      <td>S72_3212</td>\n",
       "      <td>C/ Moralzarzal, 86</td>\n",
       "      <td>Madrid</td>\n",
       "      <td>CA</td>\n",
       "      <td>28034</td>\n",
       "      <td>Spain</td>\n",
       "      <td>EMEA</td>\n",
       "      <td>Small</td>\n",
       "    </tr>\n",
       "    <tr>\n",
       "      <th>2819</th>\n",
       "      <td>10373</td>\n",
       "      <td>29</td>\n",
       "      <td>100.00</td>\n",
       "      <td>1</td>\n",
       "      <td>3978.51</td>\n",
       "      <td>1</td>\n",
       "      <td>1</td>\n",
       "      <td>1</td>\n",
       "      <td>2005</td>\n",
       "      <td>Ships</td>\n",
       "      <td>54</td>\n",
       "      <td>S72_3212</td>\n",
       "      <td>Torikatu 38</td>\n",
       "      <td>Oulu</td>\n",
       "      <td>CA</td>\n",
       "      <td>90110</td>\n",
       "      <td>Finland</td>\n",
       "      <td>EMEA</td>\n",
       "      <td>Medium</td>\n",
       "    </tr>\n",
       "    <tr>\n",
       "      <th>2820</th>\n",
       "      <td>10386</td>\n",
       "      <td>43</td>\n",
       "      <td>100.00</td>\n",
       "      <td>4</td>\n",
       "      <td>5417.57</td>\n",
       "      <td>0</td>\n",
       "      <td>1</td>\n",
       "      <td>3</td>\n",
       "      <td>2005</td>\n",
       "      <td>Ships</td>\n",
       "      <td>54</td>\n",
       "      <td>S72_3212</td>\n",
       "      <td>C/ Moralzarzal, 86</td>\n",
       "      <td>Madrid</td>\n",
       "      <td>CA</td>\n",
       "      <td>28034</td>\n",
       "      <td>Spain</td>\n",
       "      <td>EMEA</td>\n",
       "      <td>Medium</td>\n",
       "    </tr>\n",
       "    <tr>\n",
       "      <th>2821</th>\n",
       "      <td>10397</td>\n",
       "      <td>34</td>\n",
       "      <td>62.24</td>\n",
       "      <td>1</td>\n",
       "      <td>2116.16</td>\n",
       "      <td>1</td>\n",
       "      <td>1</td>\n",
       "      <td>3</td>\n",
       "      <td>2005</td>\n",
       "      <td>Ships</td>\n",
       "      <td>54</td>\n",
       "      <td>S72_3212</td>\n",
       "      <td>1 rue Alsace-Lorraine</td>\n",
       "      <td>Toulouse</td>\n",
       "      <td>CA</td>\n",
       "      <td>31000</td>\n",
       "      <td>France</td>\n",
       "      <td>EMEA</td>\n",
       "      <td>Small</td>\n",
       "    </tr>\n",
       "    <tr>\n",
       "      <th>2822</th>\n",
       "      <td>10414</td>\n",
       "      <td>47</td>\n",
       "      <td>65.52</td>\n",
       "      <td>9</td>\n",
       "      <td>3079.44</td>\n",
       "      <td>0</td>\n",
       "      <td>2</td>\n",
       "      <td>5</td>\n",
       "      <td>2005</td>\n",
       "      <td>Ships</td>\n",
       "      <td>54</td>\n",
       "      <td>S72_3212</td>\n",
       "      <td>8616 Spinnaker Dr.</td>\n",
       "      <td>Boston</td>\n",
       "      <td>MA</td>\n",
       "      <td>51003</td>\n",
       "      <td>USA</td>\n",
       "      <td>EMEA</td>\n",
       "      <td>Medium</td>\n",
       "    </tr>\n",
       "  </tbody>\n",
       "</table>\n",
       "<p>2823 rows × 19 columns</p>\n",
       "</div>"
      ],
      "text/plain": [
       "      ORDERNUMBER  QUANTITYORDERED  PRICEEACH  ORDERLINENUMBER    SALES  \\\n",
       "0           10107               30      95.70                2  2871.00   \n",
       "1           10121               34      81.35                5  2765.90   \n",
       "2           10134               41      94.74                2  3884.34   \n",
       "3           10145               45      83.26                6  3746.70   \n",
       "4           10159               49     100.00               14  5205.27   \n",
       "...           ...              ...        ...              ...      ...   \n",
       "2818        10350               20     100.00               15  2244.40   \n",
       "2819        10373               29     100.00                1  3978.51   \n",
       "2820        10386               43     100.00                4  5417.57   \n",
       "2821        10397               34      62.24                1  2116.16   \n",
       "2822        10414               47      65.52                9  3079.44   \n",
       "\n",
       "     STATUS  QTR_ID  MONTH_ID  YEAR_ID  PRODUCTLINE  MSRP PRODUCTCODE  \\\n",
       "0         1       1         2     2003  Motorcycles    95    S10_1678   \n",
       "1         1       2         5     2003  Motorcycles    95    S10_1678   \n",
       "2         1       3         7     2003  Motorcycles    95    S10_1678   \n",
       "3         1       3         8     2003  Motorcycles    95    S10_1678   \n",
       "4         1       4        10     2003  Motorcycles    95    S10_1678   \n",
       "...     ...     ...       ...      ...          ...   ...         ...   \n",
       "2818      1       4        12     2004        Ships    54    S72_3212   \n",
       "2819      1       1         1     2005        Ships    54    S72_3212   \n",
       "2820      0       1         3     2005        Ships    54    S72_3212   \n",
       "2821      1       1         3     2005        Ships    54    S72_3212   \n",
       "2822      0       2         5     2005        Ships    54    S72_3212   \n",
       "\n",
       "                       ADDRESSLINE1           CITY STATE POSTALCODE  COUNTRY  \\\n",
       "0           897 Long Airport Avenue            NYC    NY      10022      USA   \n",
       "1                59 rue de l'Abbaye          Reims    CA      51100   France   \n",
       "2     27 rue du Colonel Pierre Avia          Paris    CA      75508   France   \n",
       "3                78934 Hillside Dr.       Pasadena    CA      90003      USA   \n",
       "4                   7734 Strong St.  San Francisco    CA      28034      USA   \n",
       "...                             ...            ...   ...        ...      ...   \n",
       "2818             C/ Moralzarzal, 86         Madrid    CA      28034    Spain   \n",
       "2819                    Torikatu 38           Oulu    CA      90110  Finland   \n",
       "2820             C/ Moralzarzal, 86         Madrid    CA      28034    Spain   \n",
       "2821          1 rue Alsace-Lorraine       Toulouse    CA      31000   France   \n",
       "2822             8616 Spinnaker Dr.         Boston    MA      51003      USA   \n",
       "\n",
       "     TERRITORY DEALSIZE  \n",
       "0         EMEA    Small  \n",
       "1         EMEA    Small  \n",
       "2         EMEA   Medium  \n",
       "3         EMEA   Medium  \n",
       "4         EMEA   Medium  \n",
       "...        ...      ...  \n",
       "2818      EMEA    Small  \n",
       "2819      EMEA   Medium  \n",
       "2820      EMEA   Medium  \n",
       "2821      EMEA    Small  \n",
       "2822      EMEA   Medium  \n",
       "\n",
       "[2823 rows x 19 columns]"
      ]
     },
     "execution_count": 21,
     "metadata": {},
     "output_type": "execute_result"
    }
   ],
   "source": [
    "df"
   ]
  },
  {
   "cell_type": "code",
   "execution_count": 22,
   "id": "643bbb17",
   "metadata": {},
   "outputs": [],
   "source": [
    "from sklearn.model_selection import train_test_split\n",
    "\n",
    "# Chia dữ liệu thành features (X) và nhãn (y)\n",
    "X = df.drop(\"STATUS\", axis=1)\n",
    "y = df[\"STATUS\"]\n",
    "\n",
    "# Chia thành tập huấn luyện và tập kiểm tra\n",
    "X_train, X_test, y_train, y_test = train_test_split(X, y, test_size=0.2, random_state=42)"
   ]
  },
  {
   "cell_type": "code",
   "execution_count": 23,
   "id": "cea320cd",
   "metadata": {},
   "outputs": [],
   "source": [
    "from sklearn.compose import ColumnTransformer\n",
    "from sklearn.preprocessing import StandardScaler, OneHotEncoder\n",
    "\n",
    "# Chọn cột kiểu số và kiểu category\n",
    "numeric_cols = X.select_dtypes(include=['number']).columns\n",
    "categorical_cols = X.select_dtypes(include=['object']).columns\n",
    "\n",
    "# Tiền xử lý cho các cột kiểu số\n",
    "numeric_transformer = StandardScaler()\n",
    "\n",
    "# Tiền xử lý cho các cột kiểu category\n",
    "categorical_transformer = OneHotEncoder(handle_unknown='ignore')\n",
    "\n",
    "# Tạo preprocessor\n",
    "preprocessor = ColumnTransformer(\n",
    "    transformers=[\n",
    "        ('num', numeric_transformer, numeric_cols),\n",
    "        ('cat', categorical_transformer, categorical_cols)\n",
    "    ])\n",
    "\n",
    "# Áp dụng preprocessor cho tập huấn luyện và tập kiểm tra\n",
    "X_train_processed = preprocessor.fit_transform(X_train)\n",
    "X_test_processed = preprocessor.transform(X_test)"
   ]
  },
  {
   "cell_type": "code",
   "execution_count": 24,
   "id": "1d793204",
   "metadata": {},
   "outputs": [],
   "source": [
    "#Nguyễn Tấn Bảo_ 521H0438\n",
    "#REQUIRE 2"
   ]
  },
  {
   "cell_type": "code",
   "execution_count": 25,
   "id": "078c4dcd",
   "metadata": {
    "scrolled": false
   },
   "outputs": [
    {
     "name": "stdout",
     "output_type": "stream",
     "text": [
      "Accuracy on Test Set (Logistic Regression): 0.9203539823008849\n",
      "Accuracy on Test Set (Random Forest): 0.9876106194690265\n",
      "Accuracy on Test Set (Decision Tree): 0.9964601769911504\n",
      "Accuracy on Test Set (SVM): 0.9380530973451328\n",
      "Accuracy on Test Set (KNN): 0.9646017699115044\n",
      "Accuracy on Test Set (Neural Network): 0.9752212389380531\n"
     ]
    }
   ],
   "source": [
    "from sklearn.linear_model import LogisticRegression\n",
    "from sklearn.metrics import accuracy_score\n",
    "\n",
    "# Khởi tạo và đào tạo mô hình Logistic Regression\n",
    "logistic_model = LogisticRegression()\n",
    "logistic_model.fit(X_train_processed, y_train)\n",
    "\n",
    "y_pred_test = logistic_model.predict(X_test_processed)\n",
    "\n",
    "accuracy_test_log = accuracy_score(y_test, y_pred_test)\n",
    "print(\"Accuracy on Test Set (Logistic Regression):\", accuracy_test_log)\n",
    "# Khởi tạo và đào tạo mô hình Random Forest\n",
    "\n",
    "from sklearn.ensemble import RandomForestClassifier\n",
    "\n",
    "random_forest_model = RandomForestClassifier()\n",
    "random_forest_model.fit(X_train_processed, y_train)\n",
    "\n",
    "y_pred_test_rf = random_forest_model.predict(X_test_processed)\n",
    "accuracy_test_rf = accuracy_score(y_test, y_pred_test_rf)\n",
    "print(\"Accuracy on Test Set (Random Forest):\", accuracy_test_rf)\n",
    "\n",
    "# Khởi tạo và đào tạo mô hình Decision Tree\n",
    "\n",
    "from sklearn.tree import DecisionTreeClassifier\n",
    "\n",
    "decision_tree_model = DecisionTreeClassifier()\n",
    "decision_tree_model.fit(X_train_processed, y_train)\n",
    "\n",
    "y_pred_test_dt = decision_tree_model.predict(X_test_processed)\n",
    "accuracy_test_dt = accuracy_score(y_test, y_pred_test_dt)\n",
    "print(\"Accuracy on Test Set (Decision Tree):\", accuracy_test_dt)\n",
    "\n",
    "# Khởi tạo và đào tạo mô hình SVC\n",
    "\n",
    "from sklearn.svm import SVC\n",
    "\n",
    "svm_model = SVC()\n",
    "svm_model.fit(X_train_processed, y_train)\n",
    "\n",
    "y_pred_test_svm = svm_model.predict(X_test_processed)\n",
    "accuracy_test_svm = accuracy_score(y_test, y_pred_test_svm)\n",
    "print(\"Accuracy on Test Set (SVM):\", accuracy_test_svm)\n",
    "\n",
    "# Khởi tạo và đào tạo mô hình KNeighbors\n",
    "\n",
    "from sklearn.neighbors import KNeighborsClassifier\n",
    "\n",
    "knn_model = KNeighborsClassifier()\n",
    "knn_model.fit(X_train_processed, y_train)\n",
    "\n",
    "y_pred_test_knn = knn_model.predict(X_test_processed)\n",
    "accuracy_test_knn = accuracy_score(y_test, y_pred_test_knn)\n",
    "print(\"Accuracy on Test Set (KNN):\", accuracy_test_knn)\n",
    "\n",
    "\n",
    "from sklearn.neural_network import MLPClassifier\n",
    "\n",
    "nn_model = MLPClassifier()\n",
    "nn_model.fit(X_train_processed, y_train)\n",
    "\n",
    "y_pred_test_nn = nn_model.predict(X_test_processed)\n",
    "accuracy_test_nn = accuracy_score(y_test, y_pred_test_nn)\n",
    "print(\"Accuracy on Test Set (Neural Network):\", accuracy_test_nn)"
   ]
  },
  {
   "cell_type": "code",
   "execution_count": 26,
   "id": "0306e6e8",
   "metadata": {},
   "outputs": [
    {
     "name": "stdout",
     "output_type": "stream",
     "text": [
      "Accuracy on Test Set (Logistic Regression): 0.9203539823008849\n",
      "Accuracy on Test Set (Random Forest): 0.9893805309734514\n",
      "Accuracy on Test Set (Decision Tree): 0.9964601769911504\n",
      "Accuracy on Test Set (SVM): 0.9380530973451328\n",
      "Accuracy on Test Set (KNN): 0.9646017699115044\n",
      "Accuracy on Test Set (Gradient Boosting): 1.0\n",
      "Accuracy on Test Set (Neural Network): 0.9752212389380531\n",
      "Accuracy on Training Set (Logistic Regression): 0.9552701505757307\n",
      "Accuracy on Training Set (Random Forest): 1.0\n",
      "Accuracy on Training Set (Decision Tree): 1.0\n",
      "Accuracy on Training Set (SVM): 0.9734278122232064\n",
      "Accuracy on Training Set (KNN): 0.983613817537644\n",
      "Accuracy on Training Set (Gradient Boosting): 0.9973427812223207\n",
      "Accuracy on Training Set (Neural Network): 1.0\n"
     ]
    },
    {
     "data": {
      "image/png": "[encoded data removed]",
      "text/plain": [
       "<Figure size 1000x600 with 1 Axes>"
      ]
     },
     "metadata": {},
     "output_type": "display_data"
    }
   ],
   "source": [
    "from sklearn.linear_model import LogisticRegression\n",
    "from sklearn.ensemble import RandomForestClassifier, GradientBoostingClassifier\n",
    "from sklearn.tree import DecisionTreeClassifier\n",
    "from sklearn.svm import SVC\n",
    "from sklearn.neighbors import KNeighborsClassifier\n",
    "from sklearn.neural_network import MLPClassifier\n",
    "from sklearn.metrics import accuracy_score\n",
    "import matplotlib.pyplot as plt\n",
    "\n",
    "# Khởi tạo và đào tạo mô hình Logistic Regression\n",
    "logistic_model = LogisticRegression()\n",
    "logistic_model.fit(X_train_processed, y_train)\n",
    "\n",
    "y_pred_test_log = logistic_model.predict(X_test_processed)\n",
    "accuracy_test_log = accuracy_score(y_test, y_pred_test_log)\n",
    "accuracy_train_log = accuracy_score(y_train, logistic_model.predict(X_train_processed))\n",
    "\n",
    "# Khởi tạo và đào tạo mô hình Random Forest\n",
    "random_forest_model = RandomForestClassifier()\n",
    "random_forest_model.fit(X_train_processed, y_train)\n",
    "\n",
    "y_pred_test_rf = random_forest_model.predict(X_test_processed)\n",
    "accuracy_test_rf = accuracy_score(y_test, y_pred_test_rf)\n",
    "accuracy_train_rf = accuracy_score(y_train, random_forest_model.predict(X_train_processed))\n",
    "\n",
    "# Khởi tạo và đào tạo mô hình Decision Tree\n",
    "decision_tree_model = DecisionTreeClassifier()\n",
    "decision_tree_model.fit(X_train_processed, y_train)\n",
    "\n",
    "y_pred_test_dt = decision_tree_model.predict(X_test_processed)\n",
    "accuracy_test_dt = accuracy_score(y_test, y_pred_test_dt)\n",
    "accuracy_train_dt = accuracy_score(y_train, decision_tree_model.predict(X_train_processed))\n",
    "\n",
    "# Khởi tạo và đào tạo mô hình SVC\n",
    "svm_model = SVC()\n",
    "svm_model.fit(X_train_processed, y_train)\n",
    "\n",
    "y_pred_test_svm = svm_model.predict(X_test_processed)\n",
    "accuracy_test_svm = accuracy_score(y_test, y_pred_test_svm)\n",
    "accuracy_train_svm = accuracy_score(y_train, svm_model.predict(X_train_processed))\n",
    "\n",
    "# Khởi tạo và đào tạo mô hình KNeighbors\n",
    "knn_model = KNeighborsClassifier()\n",
    "knn_model.fit(X_train_processed, y_train)\n",
    "\n",
    "y_pred_test_knn = knn_model.predict(X_test_processed)\n",
    "accuracy_test_knn = accuracy_score(y_test, y_pred_test_knn)\n",
    "accuracy_train_knn = accuracy_score(y_train, knn_model.predict(X_train_processed))\n",
    "\n",
    "# Khởi tạo và đào tạo mô hình GradientBoosting\n",
    "gb_model = GradientBoostingClassifier()\n",
    "gb_model.fit(X_train_processed, y_train)\n",
    "\n",
    "y_pred_test_gb = gb_model.predict(X_test_processed)\n",
    "accuracy_test_gb = accuracy_score(y_test, y_pred_test_gb)\n",
    "accuracy_train_gb = accuracy_score(y_train, gb_model.predict(X_train_processed))\n",
    "\n",
    "# Khởi tạo và đào tạo mô hình Neural Network\n",
    "nn_model = MLPClassifier()\n",
    "nn_model.fit(X_train_processed, y_train)\n",
    "\n",
    "y_pred_test_nn = nn_model.predict(X_test_processed)\n",
    "accuracy_test_nn = accuracy_score(y_test, y_pred_test_nn)\n",
    "accuracy_train_nn = accuracy_score(y_train, nn_model.predict(X_train_processed))\n",
    "\n",
    "# Hiển thị độ chính xác\n",
    "print(\"Accuracy on Test Set (Logistic Regression):\", accuracy_test_log)\n",
    "print(\"Accuracy on Test Set (Random Forest):\", accuracy_test_rf)\n",
    "print(\"Accuracy on Test Set (Decision Tree):\", accuracy_test_dt)\n",
    "print(\"Accuracy on Test Set (SVM):\", accuracy_test_svm)\n",
    "print(\"Accuracy on Test Set (KNN):\", accuracy_test_knn)\n",
    "print(\"Accuracy on Test Set (Gradient Boosting):\", accuracy_test_gb)\n",
    "print(\"Accuracy on Test Set (Neural Network):\", accuracy_test_nn)\n",
    "\n",
    "# Hiển thị độ chính xác trên tập huấn luyện\n",
    "print(\"Accuracy on Training Set (Logistic Regression):\", accuracy_train_log)\n",
    "print(\"Accuracy on Training Set (Random Forest):\", accuracy_train_rf)\n",
    "print(\"Accuracy on Training Set (Decision Tree):\", accuracy_train_dt)\n",
    "print(\"Accuracy on Training Set (SVM):\", accuracy_train_svm)\n",
    "print(\"Accuracy on Training Set (KNN):\", accuracy_train_knn)\n",
    "print(\"Accuracy on Training Set (Gradient Boosting):\", accuracy_train_gb)\n",
    "print(\"Accuracy on Training Set (Neural Network):\", accuracy_train_nn)\n",
    "\n",
    "# Vẽ biểu đồ chênh lệch\n",
    "models = [\"Logistic Regression\", \"Random Forest\", \"Decision Tree\", \"SVM\", \"KNN\", \"Gradient Boosting\", \"Neural Network\"]\n",
    "test_accuracies = [accuracy_test_log, accuracy_test_rf, accuracy_test_dt, accuracy_test_svm, accuracy_test_knn, accuracy_test_gb, accuracy_test_nn]\n",
    "train_accuracies = [accuracy_train_log, accuracy_train_rf, accuracy_train_dt, accuracy_train_svm, accuracy_train_knn, accuracy_train_gb, accuracy_train_nn]\n",
    "\n",
    "plt.figure(figsize=(10, 6))\n",
    "plt.plot(models, test_accuracies, label='Test Set', marker='o')\n",
    "plt.plot(models, train_accuracies, label='Training Set', marker='o')\n",
    "plt.title('Accuracy on Test Set vs Training Set')\n",
    "plt.xlabel('Models')\n",
    "plt.ylabel('Accuracy')\n",
    "plt.legend()\n",
    "plt.show()\n"
   ]
  },
  {
   "cell_type": "code",
   "execution_count": 27,
   "id": "1f4cfc9e",
   "metadata": {},
   "outputs": [
    {
     "data": {
      "image/png": "[encoded data removed]",
      "text/plain": [
       "<Figure size 1000x600 with 1 Axes>"
      ]
     },
     "metadata": {},
     "output_type": "display_data"
    }
   ],
   "source": [
    "import matplotlib.pyplot as plt\n",
    "\n",
    "# Các giá trị accuracy\n",
    "accuracies = [accuracy_test_log, accuracy_test_rf, accuracy_test_dt, accuracy_test_svm, accuracy_test_knn, accuracy_test_nn]\n",
    "\n",
    "# Tên của các mô hình\n",
    "models = ['Logistic Regression', 'Random Forest', 'Decision Tree', 'Support Vector Machine', 'K-Nearest Neighbors', 'Neural Network']\n",
    "\n",
    "# Tạo biểu đồ\n",
    "plt.figure(figsize=(10, 6))\n",
    "plt.barh(models, accuracies, color='skyblue')\n",
    "plt.xlabel('Accuracy')\n",
    "plt.title('Accuracy of Different Models')\n",
    "plt.xlim(0.9, 1.0)  \n",
    "plt.show()"
   ]
  },
  {
   "cell_type": "code",
   "execution_count": 28,
   "id": "c01f1040",
   "metadata": {},
   "outputs": [
    {
     "name": "stdout",
     "output_type": "stream",
     "text": [
      "Logistic Regression: Mean Accuracy: 0.9428732609932696, Standard Deviation: 0.004892909640568034\n",
      "Accuracy on Test Set (Logistic Regression): 0.9256637168141593\n",
      "\n",
      "Random Forest: Mean Accuracy: 0.932241037615525, Standard Deviation: 0.0010750741591216363\n",
      "Accuracy on Test Set (Random Forest): 0.9079646017699115\n",
      "\n",
      "Decision Tree: Mean Accuracy: 0.9707699703706612, Standard Deviation: 0.0032601001768584235\n",
      "Accuracy on Test Set (Decision Tree): 0.968141592920354\n",
      "\n",
      "SVM: Mean Accuracy: 0.9411053116967212, Standard Deviation: 0.007028907846750167\n",
      "Accuracy on Test Set (SVM): 0.9345132743362832\n",
      "\n",
      "KNN: Mean Accuracy: 0.9623560229970763, Standard Deviation: 0.006563796815452574\n",
      "Accuracy on Test Set (KNN): 0.9646017699115044\n",
      "\n",
      "Neural Network: Mean Accuracy: 0.9437621411612346, Standard Deviation: 0.00854677555953945\n",
      "Accuracy on Test Set (Neural Network): 0.9663716814159292\n",
      "\n"
     ]
    }
   ],
   "source": [
    "from sklearn.pipeline import Pipeline\n",
    "from sklearn.model_selection import StratifiedKFold\n",
    "from sklearn.model_selection import cross_val_score\n",
    "def evaluate_model(name, model, X_train, y_train, X_test, y_test):\n",
    "    # Tạo pipeline để kết hợp tiền xử lý và mô hình\n",
    "    pipeline = Pipeline(steps=[('preprocessor', preprocessor),\n",
    "                               ('classifier', model)])\n",
    "\n",
    "    # Đánh giá mô hình bằng cross-validation\n",
    "    kfold = StratifiedKFold(n_splits=5, shuffle=True, random_state=42)\n",
    "    cv_results = cross_val_score(pipeline, X_train, y_train, cv=kfold, scoring='accuracy')\n",
    "\n",
    "    # In kết quả\n",
    "    print(f'{name}: Mean Accuracy: {cv_results.mean()}, Standard Deviation: {cv_results.std()}')\n",
    "\n",
    "    # Huấn luyện mô hình trên toàn bộ dữ liệu huấn luyện\n",
    "    pipeline.fit(X_train, y_train)\n",
    "\n",
    "    # Dự đoán trên tập kiểm tra\n",
    "    y_pred_test = pipeline.predict(X_test)\n",
    "\n",
    "    # Đánh giá hiệu suất trên tập kiểm tra\n",
    "    accuracy_test = accuracy_score(y_test, y_pred_test)\n",
    "    print(f'Accuracy on Test Set ({name}): {accuracy_test}\\n')\n",
    "\n",
    "# Logistic Regression\n",
    "logistic_model = LogisticRegression(penalty='l1', solver='liblinear', C=1.0)\n",
    "evaluate_model('Logistic Regression', logistic_model, X_train, y_train, X_test, y_test)\n",
    "\n",
    "# Random Forest\n",
    "random_forest_model = RandomForestClassifier(n_estimators=100, max_depth=5)\n",
    "evaluate_model('Random Forest', random_forest_model, X_train, y_train, X_test, y_test)\n",
    "\n",
    "# Decision Tree\n",
    "decision_tree_model = DecisionTreeClassifier(max_depth=5)\n",
    "evaluate_model('Decision Tree', decision_tree_model, X_train, y_train, X_test, y_test)\n",
    "\n",
    "# SVM\n",
    "svm_model = SVC(kernel='linear', C=1)\n",
    "evaluate_model('SVM', svm_model, X_train, y_train, X_test, y_test)\n",
    "\n",
    "# KNN\n",
    "knn_model = KNeighborsClassifier(n_neighbors=5)\n",
    "evaluate_model('KNN', knn_model, X_train, y_train, X_test, y_test)\n",
    "\n",
    "# Neural Network\n",
    "nn_model = MLPClassifier(hidden_layer_sizes=(100,), max_iter=1000, early_stopping=True, random_state=42)\n",
    "evaluate_model('Neural Network', nn_model, X_train, y_train, X_test, y_test)"
   ]
  },
  {
   "cell_type": "markdown",
   "id": "e4cbdf2b",
   "metadata": {},
   "source": [
    "521H0471-Võ Gia Phong\n",
    "Requie 3"
   ]
  },
  {
   "cell_type": "markdown",
   "id": "cfc24185",
   "metadata": {},
   "source": [
    "1. Feed Forward Neural Network "
   ]
  },
  {
   "cell_type": "code",
   "execution_count": 29,
   "id": "4f35f50e",
   "metadata": {},
   "outputs": [
    {
     "name": "stdout",
     "output_type": "stream",
     "text": [
      "WARNING:tensorflow:From c:\\Users\\ADMIN\\AppData\\Local\\Programs\\Python\\Python310\\lib\\site-packages\\keras\\src\\losses.py:2976: The name tf.losses.sparse_softmax_cross_entropy is deprecated. Please use tf.compat.v1.losses.sparse_softmax_cross_entropy instead.\n",
      "\n",
      "WARNING:tensorflow:From c:\\Users\\ADMIN\\AppData\\Local\\Programs\\Python\\Python310\\lib\\site-packages\\keras\\src\\backend.py:873: The name tf.get_default_graph is deprecated. Please use tf.compat.v1.get_default_graph instead.\n",
      "\n"
     ]
    },
    {
     "name": "stderr",
     "output_type": "stream",
     "text": [
      "WARNING:absl:`lr` is deprecated in Keras optimizer, please use `learning_rate` or use the legacy optimizer, e.g.,tf.keras.optimizers.legacy.SGD.\n"
     ]
    },
    {
     "name": "stdout",
     "output_type": "stream",
     "text": [
      "Epoch 1/10\n",
      "WARNING:tensorflow:From c:\\Users\\ADMIN\\AppData\\Local\\Programs\\Python\\Python310\\lib\\site-packages\\keras\\src\\utils\\tf_utils.py:492: The name tf.ragged.RaggedTensorValue is deprecated. Please use tf.compat.v1.ragged.RaggedTensorValue instead.\n",
      "\n"
     ]
    },
    {
     "name": "stderr",
     "output_type": "stream",
     "text": [
      "WARNING:tensorflow:From c:\\Users\\ADMIN\\AppData\\Local\\Programs\\Python\\Python310\\lib\\site-packages\\keras\\src\\utils\\tf_utils.py:492: The name tf.ragged.RaggedTensorValue is deprecated. Please use tf.compat.v1.ragged.RaggedTensorValue instead.\n",
      "\n"
     ]
    },
    {
     "name": "stdout",
     "output_type": "stream",
     "text": [
      "WARNING:tensorflow:From c:\\Users\\ADMIN\\AppData\\Local\\Programs\\Python\\Python310\\lib\\site-packages\\keras\\src\\engine\\base_layer_utils.py:384: The name tf.executing_eagerly_outside_functions is deprecated. Please use tf.compat.v1.executing_eagerly_outside_functions instead.\n",
      "\n"
     ]
    },
    {
     "name": "stderr",
     "output_type": "stream",
     "text": [
      "WARNING:tensorflow:From c:\\Users\\ADMIN\\AppData\\Local\\Programs\\Python\\Python310\\lib\\site-packages\\keras\\src\\engine\\base_layer_utils.py:384: The name tf.executing_eagerly_outside_functions is deprecated. Please use tf.compat.v1.executing_eagerly_outside_functions instead.\n",
      "\n"
     ]
    },
    {
     "name": "stdout",
     "output_type": "stream",
     "text": [
      "71/71 [==============================] - 1s 1ms/step - loss: 0.4405 - accuracy: 0.9132\n",
      "Epoch 2/10\n",
      "71/71 [==============================] - 0s 1ms/step - loss: 0.2758 - accuracy: 0.9318\n",
      "Epoch 3/10\n",
      "71/71 [==============================] - 0s 1ms/step - loss: 0.2435 - accuracy: 0.9318\n",
      "Epoch 4/10\n",
      "71/71 [==============================] - 0s 1ms/step - loss: 0.2320 - accuracy: 0.9318\n",
      "Epoch 5/10\n",
      "71/71 [==============================] - 0s 1ms/step - loss: 0.2257 - accuracy: 0.9318\n",
      "Epoch 6/10\n",
      "71/71 [==============================] - 0s 1ms/step - loss: 0.2213 - accuracy: 0.9318\n",
      "Epoch 7/10\n",
      "71/71 [==============================] - 0s 1ms/step - loss: 0.2177 - accuracy: 0.9318\n",
      "Epoch 8/10\n",
      "71/71 [==============================] - 0s 1ms/step - loss: 0.2144 - accuracy: 0.9318\n",
      "Epoch 9/10\n",
      "71/71 [==============================] - 0s 1ms/step - loss: 0.2115 - accuracy: 0.9318\n",
      "Epoch 10/10\n",
      "71/71 [==============================] - 0s 1ms/step - loss: 0.2089 - accuracy: 0.9318\n"
     ]
    },
    {
     "data": {
      "text/plain": [
       "<keras.src.callbacks.History at 0x1e9c4a1d3f0>"
      ]
     },
     "execution_count": 29,
     "metadata": {},
     "output_type": "execute_result"
    }
   ],
   "source": [
    "#Feed Forward Neural Network\n",
    "\n",
    "from keras.models import Sequential\n",
    "from keras.layers import Dense\n",
    "from keras.utils import to_categorical\n",
    "from keras.optimizers import SGD\n",
    "\n",
    "# Chuyển đổi nhãn sang dạng one-hot vector\n",
    "y_train_onehot = to_categorical(y_train)\n",
    "y_test_onehot = to_categorical(y_test)\n",
    "\n",
    "# Khởi tạo mô hình\n",
    "model = Sequential()\n",
    "\n",
    "# Thêm các layer\n",
    "model.add(Dense(100, activation='relu', input_shape=(X_train_processed.shape[1],)))\n",
    "model.add(Dense(100, activation='relu'))\n",
    "model.add(Dense(2, activation='softmax'))\n",
    "\n",
    "# Compile model\n",
    "model.compile(optimizer=SGD(lr=0.01), loss='categorical_crossentropy', metrics=['accuracy'])#optimizer=SGD(lr=0.01) : tốc độ học tập\n",
    "\n",
    "# Đào tạo mô hình\n",
    "model.fit(X_train_processed, y_train_onehot, epochs=10, batch_size=32, verbose=1) "
   ]
  },
  {
   "cell_type": "code",
   "execution_count": 30,
   "id": "58e7e74f",
   "metadata": {},
   "outputs": [
    {
     "name": "stdout",
     "output_type": "stream",
     "text": [
      "Model: \"sequential\"\n",
      "_________________________________________________________________\n",
      " Layer (type)                Output Shape              Param #   \n",
      "=================================================================\n",
      " dense (Dense)               (None, 100)               40500     \n",
      "                                                                 \n",
      " dense_1 (Dense)             (None, 100)               10100     \n",
      "                                                                 \n",
      " dense_2 (Dense)             (None, 2)                 202       \n",
      "                                                                 \n",
      "=================================================================\n",
      "Total params: 50802 (198.45 KB)\n",
      "Trainable params: 50802 (198.45 KB)\n",
      "Non-trainable params: 0 (0.00 Byte)\n",
      "_________________________________________________________________\n"
     ]
    }
   ],
   "source": [
    "model.summary()"
   ]
  },
  {
   "cell_type": "code",
   "execution_count": 31,
   "id": "15b4b4a7",
   "metadata": {},
   "outputs": [
    {
     "name": "stdout",
     "output_type": "stream",
     "text": [
      "18/18 [==============================] - 0s 2ms/step - loss: 0.2557 - accuracy: 0.9080\n",
      "Test accuracy: 90.79645872116089\n"
     ]
    }
   ],
   "source": [
    "# Đánh giá mô hình trên tập kiểm tra\n",
    "test_loss, test_acc = model.evaluate(X_test_processed, y_test_onehot)\n",
    "print('Test accuracy:', test_acc*100)"
   ]
  },
  {
   "cell_type": "markdown",
   "id": "6e1e1c32",
   "metadata": {},
   "source": [
    "2. Reccurent Neural Network "
   ]
  },
  {
   "cell_type": "code",
   "execution_count": 32,
   "id": "fdc174ee",
   "metadata": {},
   "outputs": [
    {
     "name": "stderr",
     "output_type": "stream",
     "text": [
      "WARNING:absl:`lr` is deprecated in Keras optimizer, please use `learning_rate` or use the legacy optimizer, e.g.,tf.keras.optimizers.legacy.SGD.\n"
     ]
    }
   ],
   "source": [
    "#Recurrent Neural Network\n",
    "\n",
    "from keras.layers import LSTM\n",
    "\n",
    "# Convert sparse matrix to dense numpy array before reshaping\n",
    "X_train_RNN = X_train_processed.toarray()\n",
    "X_test_RNN = X_test_processed.toarray()\n",
    "\n",
    "# Reshape input to be 3D [samples, timesteps, features]\n",
    "X_train_RNN = X_train_RNN.reshape((X_train_RNN.shape[0], X_train_RNN.shape[1], 1))\n",
    "X_test_RNN = X_test_RNN.reshape((X_test_RNN.shape[0], X_test_RNN.shape[1], 1))\n",
    "\n",
    "# Khởi tạo mô hình\n",
    "model = Sequential()\n",
    "\n",
    "# Thêm các layer\n",
    "model.add(LSTM(100, activation='relu', input_shape=(X_train_RNN.shape[1], 1)))\n",
    "model.add(Dense(100, activation='relu'))\n",
    "model.add(Dense(2, activation='softmax'))\n",
    "\n",
    "# Compile model\n",
    "model.compile(optimizer=SGD(lr=0.01), loss='categorical_crossentropy', metrics=['accuracy'])"
   ]
  },
  {
   "cell_type": "code",
   "execution_count": 33,
   "id": "e8acc967",
   "metadata": {},
   "outputs": [
    {
     "name": "stdout",
     "output_type": "stream",
     "text": [
      "Model: \"sequential_1\"\n",
      "_________________________________________________________________\n",
      " Layer (type)                Output Shape              Param #   \n",
      "=================================================================\n",
      " lstm (LSTM)                 (None, 100)               40800     \n",
      "                                                                 \n",
      " dense_3 (Dense)             (None, 100)               10100     \n",
      "                                                                 \n",
      " dense_4 (Dense)             (None, 2)                 202       \n",
      "                                                                 \n",
      "=================================================================\n",
      "Total params: 51102 (199.62 KB)\n",
      "Trainable params: 51102 (199.62 KB)\n",
      "Non-trainable params: 0 (0.00 Byte)\n",
      "_________________________________________________________________\n"
     ]
    }
   ],
   "source": [
    "model.summary()"
   ]
  },
  {
   "cell_type": "code",
   "execution_count": 34,
   "id": "2ecbb5fc",
   "metadata": {},
   "outputs": [
    {
     "name": "stdout",
     "output_type": "stream",
     "text": [
      "Epoch 1/10\n",
      "71/71 [==============================] - 12s 153ms/step - loss: 0.5508 - accuracy: 0.9212\n",
      "Epoch 2/10\n",
      "71/71 [==============================] - 9s 122ms/step - loss: 0.3821 - accuracy: 0.9318\n",
      "Epoch 3/10\n",
      "71/71 [==============================] - 9s 128ms/step - loss: 0.3082 - accuracy: 0.9318\n",
      "Epoch 4/10\n",
      "71/71 [==============================] - 8s 117ms/step - loss: 0.2747 - accuracy: 0.9318\n",
      "Epoch 5/10\n",
      "71/71 [==============================] - 8s 115ms/step - loss: 0.2602 - accuracy: 0.9318\n",
      "Epoch 6/10\n",
      "71/71 [==============================] - 11s 154ms/step - loss: 0.2541 - accuracy: 0.9318\n",
      "Epoch 7/10\n",
      "71/71 [==============================] - 10s 142ms/step - loss: 0.2514 - accuracy: 0.9318\n",
      "Epoch 8/10\n",
      "71/71 [==============================] - 8s 117ms/step - loss: 0.2500 - accuracy: 0.9318\n",
      "Epoch 9/10\n",
      "71/71 [==============================] - 8s 114ms/step - loss: 0.2495 - accuracy: 0.9318\n",
      "Epoch 10/10\n",
      "71/71 [==============================] - 8s 110ms/step - loss: 0.2492 - accuracy: 0.9318\n"
     ]
    },
    {
     "data": {
      "text/plain": [
       "<keras.src.callbacks.History at 0x1e9bb4f0520>"
      ]
     },
     "execution_count": 34,
     "metadata": {},
     "output_type": "execute_result"
    }
   ],
   "source": [
    "# Đào tạo mô hình\n",
    "model.fit(X_train_RNN, y_train_onehot, epochs=10, batch_size=32, verbose=1)"
   ]
  },
  {
   "cell_type": "code",
   "execution_count": 35,
   "id": "d52f9b1a",
   "metadata": {},
   "outputs": [
    {
     "name": "stdout",
     "output_type": "stream",
     "text": [
      "18/18 [==============================] - 1s 42ms/step - loss: 0.3099 - accuracy: 0.9080\n",
      "Test accuracy: 90.79645872116089\n"
     ]
    }
   ],
   "source": [
    "# Đánh giá mô hình trên tập kiểm tra\n",
    "test_loss, test_acc = model.evaluate(X_test_RNN, y_test_onehot)\n",
    "print('Test accuracy:', test_acc*100)"
   ]
  },
  {
   "cell_type": "markdown",
   "id": "9dc141a0",
   "metadata": {},
   "source": [
    "3. So Sánh và đánh giá độ chính xác mô hình"
   ]
  },
  {
   "cell_type": "code",
   "execution_count": 36,
   "id": "3df269a7",
   "metadata": {},
   "outputs": [
    {
     "data": {
      "image/png": "[encoded data removed]",
      "text/plain": [
       "<Figure size 1000x600 with 1 Axes>"
      ]
     },
     "metadata": {},
     "output_type": "display_data"
    }
   ],
   "source": [
    "#Tạo biểu đồ so sánh RNN và FFNN\n",
    "\n",
    "# Các giá trị accuracy\n",
    "accuracies = [accuracy_test_nn, test_acc]\n",
    "models = ['Feed Forward Neural Network', 'Recurrent Neural Network']\n",
    "\n",
    "# Tạo biểu đồ\n",
    "plt.figure(figsize=(10, 6))\n",
    "plt.barh(models, accuracies, color='skyblue')\n",
    "plt.xlabel('Accuracy')\n",
    "plt.title('Accuracy of Different Models')\n",
    "plt.xlim(0.9, 1.0)\n",
    "plt.show()"
   ]
  },
  {
   "cell_type": "markdown",
   "id": "b70df404",
   "metadata": {},
   "source": [
    "- Dựa trên kết quả độ chính xác trên tập kiểm tra, mô hình Feed-Forward Neural Network (FFNN) có độ chính xác cao hơn so với mô hình Recurrent Neural Network (RNN). Điều này có thể do FFNN tốt hơn trong việc học các mô hình dự đoán từ dữ liệu và có thể thấy RNN không được cấu hình tốt nhất cho tác vụ này.\n",
    "- Dựa vào thời gian Training Model: RNN phức tạp hơn và mất nhiều thời gian để huấn luyện hơn so với FFNN, FFNN có thể là lựa chọn tốt hơn."
   ]
  },
  {
   "cell_type": "markdown",
   "id": "46b50aa1",
   "metadata": {},
   "source": [
    "Require 4"
   ]
  },
  {
   "cell_type": "markdown",
   "id": "1bbc1078",
   "metadata": {},
   "source": [
    "1. Feed Forward Neural Network Overfitting Dropout"
   ]
  },
  {
   "cell_type": "code",
   "execution_count": 37,
   "id": "d00fe273",
   "metadata": {},
   "outputs": [],
   "source": [
    "#Feed forward neural network Dropout Regularization\n",
    "\n",
    "from keras.layers import Dropout\n",
    "\n",
    "# Khởi tạo mô hình\n",
    "model = Sequential()\n",
    "\n",
    "# Thêm các layer\n",
    "model.add(Dense(100, activation='relu', input_shape=(X_train_processed.shape[1],)))\n",
    "model.add(Dropout(0.2))\n",
    "model.add(Dense(100, activation='relu'))\n",
    "model.add(Dropout(0.2))\n",
    "model.add(Dense(2, activation='softmax'))\n",
    "\n",
    "# Compile model\n",
    "model.compile(optimizer=SGD(learning_rate=0.01), loss='categorical_crossentropy', metrics=['accuracy'])"
   ]
  },
  {
   "cell_type": "code",
   "execution_count": 38,
   "id": "14294281",
   "metadata": {},
   "outputs": [
    {
     "name": "stdout",
     "output_type": "stream",
     "text": [
      "Model: \"sequential_2\"\n",
      "_________________________________________________________________\n",
      " Layer (type)                Output Shape              Param #   \n",
      "=================================================================\n",
      " dense_5 (Dense)             (None, 100)               40500     \n",
      "                                                                 \n",
      " dropout (Dropout)           (None, 100)               0         \n",
      "                                                                 \n",
      " dense_6 (Dense)             (None, 100)               10100     \n",
      "                                                                 \n",
      " dropout_1 (Dropout)         (None, 100)               0         \n",
      "                                                                 \n",
      " dense_7 (Dense)             (None, 2)                 202       \n",
      "                                                                 \n",
      "=================================================================\n",
      "Total params: 50802 (198.45 KB)\n",
      "Trainable params: 50802 (198.45 KB)\n",
      "Non-trainable params: 0 (0.00 Byte)\n",
      "_________________________________________________________________\n"
     ]
    }
   ],
   "source": [
    "model.summary()"
   ]
  },
  {
   "cell_type": "code",
   "execution_count": 39,
   "id": "62c1e4ad",
   "metadata": {},
   "outputs": [
    {
     "name": "stdout",
     "output_type": "stream",
     "text": [
      "Epoch 1/10\n"
     ]
    },
    {
     "name": "stdout",
     "output_type": "stream",
     "text": [
      "71/71 [==============================] - 1s 2ms/step - loss: 0.4177 - accuracy: 0.8995\n",
      "Epoch 2/10\n",
      "71/71 [==============================] - 0s 2ms/step - loss: 0.2658 - accuracy: 0.9318\n",
      "Epoch 3/10\n",
      "71/71 [==============================] - 0s 2ms/step - loss: 0.2401 - accuracy: 0.9318\n",
      "Epoch 4/10\n",
      "71/71 [==============================] - 0s 3ms/step - loss: 0.2296 - accuracy: 0.9318\n",
      "Epoch 5/10\n",
      "71/71 [==============================] - 0s 2ms/step - loss: 0.2251 - accuracy: 0.9318\n",
      "Epoch 6/10\n",
      "71/71 [==============================] - 0s 2ms/step - loss: 0.2250 - accuracy: 0.9318\n",
      "Epoch 7/10\n",
      "71/71 [==============================] - 0s 2ms/step - loss: 0.2201 - accuracy: 0.9318\n",
      "Epoch 8/10\n",
      "71/71 [==============================] - 0s 3ms/step - loss: 0.2180 - accuracy: 0.9318\n",
      "Epoch 9/10\n",
      "71/71 [==============================] - 0s 4ms/step - loss: 0.2133 - accuracy: 0.9318\n",
      "Epoch 10/10\n",
      "71/71 [==============================] - 0s 3ms/step - loss: 0.2098 - accuracy: 0.9318\n"
     ]
    },
    {
     "data": {
      "text/plain": [
       "<keras.src.callbacks.History at 0x1e9c5ec6da0>"
      ]
     },
     "execution_count": 39,
     "metadata": {},
     "output_type": "execute_result"
    }
   ],
   "source": [
    "# Đào tạo mô hình\n",
    "model.fit(X_train_processed, y_train_onehot, epochs=10, batch_size=32, verbose=1)"
   ]
  },
  {
   "cell_type": "code",
   "execution_count": 40,
   "id": "9a9bc1ba",
   "metadata": {},
   "outputs": [
    {
     "name": "stdout",
     "output_type": "stream",
     "text": [
      "18/18 [==============================] - 0s 2ms/step - loss: 0.2461 - accuracy: 0.9080\n",
      "Test accuracy: 90.79645872116089\n"
     ]
    }
   ],
   "source": [
    "# Đánh giá mô hình trên tập kiểm tra\n",
    "test_loss, test_acc = model.evaluate(X_test_processed, y_test_onehot)\n",
    "print('Test accuracy:', test_acc*100)"
   ]
  },
  {
   "cell_type": "markdown",
   "id": "af6c0441",
   "metadata": {},
   "source": [
    "Tỉ lệ chính xác đã được cải thiện từ 97% thành 98%, dù chỉ là 1% nhưng Mỗi bước tăng độ chính xác trong các bài toán phân loại và dự đoán có thể mang lại giá trị quan trọng"
   ]
  },
  {
   "cell_type": "markdown",
   "id": "3ae477d0",
   "metadata": {},
   "source": [
    "2. RNN With Dropout"
   ]
  },
  {
   "cell_type": "code",
   "execution_count": 41,
   "id": "92a0ca86",
   "metadata": {},
   "outputs": [],
   "source": [
    "# Recurrent neural network Dropout Regularization\n",
    "#use L1 and L2 regularization, Dropout\n",
    "\n",
    "from keras.models import Sequential\n",
    "from keras.layers import LSTM, Dropout, Dense\n",
    "from keras.regularizers import l1_l2\n",
    "\n",
    "# Define the model\n",
    "model = Sequential()\n",
    "\n",
    "# Add the layers\n",
    "model.add(LSTM(100, activation='relu', input_shape=(X_train_RNN.shape[1], 1), kernel_regularizer=l1_l2(l1=0.01, l2=0.01)))\n",
    "model.add(Dropout(0.2))\n",
    "model.add(Dense(100, activation='relu', kernel_regularizer=l1_l2(l1=0.01, l2=0.01)))\n",
    "model.add(Dropout(0.2))\n",
    "model.add(Dense(2, activation='softmax'))\n",
    "\n",
    "# Compile the model\n",
    "model.compile(optimizer=SGD(learning_rate=0.01), loss='categorical_crossentropy', metrics=['accuracy'])"
   ]
  },
  {
   "cell_type": "code",
   "execution_count": 42,
   "id": "47571dd5",
   "metadata": {},
   "outputs": [
    {
     "name": "stdout",
     "output_type": "stream",
     "text": [
      "Model: \"sequential_3\"\n",
      "_________________________________________________________________\n",
      " Layer (type)                Output Shape              Param #   \n",
      "=================================================================\n",
      " lstm_1 (LSTM)               (None, 100)               40800     \n",
      "                                                                 \n",
      " dropout_2 (Dropout)         (None, 100)               0         \n",
      "                                                                 \n",
      " dense_8 (Dense)             (None, 100)               10100     \n",
      "                                                                 \n",
      " dropout_3 (Dropout)         (None, 100)               0         \n",
      "                                                                 \n",
      " dense_9 (Dense)             (None, 2)                 202       \n",
      "                                                                 \n",
      "=================================================================\n",
      "Total params: 51102 (199.62 KB)\n",
      "Trainable params: 51102 (199.62 KB)\n",
      "Non-trainable params: 0 (0.00 Byte)\n",
      "_________________________________________________________________\n"
     ]
    }
   ],
   "source": [
    "model.summary()"
   ]
  },
  {
   "cell_type": "code",
   "execution_count": 43,
   "id": "157981ef",
   "metadata": {},
   "outputs": [
    {
     "name": "stdout",
     "output_type": "stream",
     "text": [
      "Epoch 1/10\n",
      "71/71 [==============================] - 11s 131ms/step - loss: 9.9252 - accuracy: 0.8911\n",
      "Epoch 2/10\n",
      "71/71 [==============================] - 8s 106ms/step - loss: 8.7898 - accuracy: 0.9318\n",
      "Epoch 3/10\n",
      "71/71 [==============================] - 8s 111ms/step - loss: 7.8241 - accuracy: 0.9318\n",
      "Epoch 4/10\n",
      "71/71 [==============================] - 9s 131ms/step - loss: 6.9535 - accuracy: 0.9318\n",
      "Epoch 5/10\n",
      "71/71 [==============================] - 10s 135ms/step - loss: 6.1537 - accuracy: 0.9318\n",
      "Epoch 6/10\n",
      "71/71 [==============================] - 9s 130ms/step - loss: 5.4145 - accuracy: 0.9318\n",
      "Epoch 7/10\n",
      "71/71 [==============================] - 11s 153ms/step - loss: 4.7333 - accuracy: 0.9318\n",
      "Epoch 8/10\n",
      "71/71 [==============================] - 12s 164ms/step - loss: 4.1065 - accuracy: 0.9318\n",
      "Epoch 9/10\n",
      "71/71 [==============================] - 13s 178ms/step - loss: 3.5310 - accuracy: 0.9318\n",
      "Epoch 10/10\n",
      "71/71 [==============================] - 12s 165ms/step - loss: 3.0066 - accuracy: 0.9318\n"
     ]
    },
    {
     "data": {
      "text/plain": [
       "<keras.src.callbacks.History at 0x1e9c7d32890>"
      ]
     },
     "execution_count": 43,
     "metadata": {},
     "output_type": "execute_result"
    }
   ],
   "source": [
    "model.fit(X_train_RNN, y_train_onehot, epochs=10, batch_size=32, verbose=1)"
   ]
  },
  {
   "cell_type": "code",
   "execution_count": 44,
   "id": "f36dccb7",
   "metadata": {},
   "outputs": [
    {
     "name": "stdout",
     "output_type": "stream",
     "text": [
      "18/18 [==============================] - 1s 57ms/step - loss: 2.8140 - accuracy: 0.9080\n",
      "Test accuracy: 90.79645872116089\n"
     ]
    }
   ],
   "source": [
    "# Đánh giá mô hình trên tập kiểm tra\n",
    "test_loss, test_acc = model.evaluate(X_test_RNN, y_test_onehot)\n",
    "print('Test accuracy:', test_acc*100)"
   ]
  },
  {
   "cell_type": "markdown",
   "id": "81d4ae59",
   "metadata": {},
   "source": [
    "Đã sử dụng phương pháp L1 and L2 regularization, Dropout và tỉ lệ chính xác không thay đồi. Có thể mô hình đã đạt tới giới hạn tối ưu."
   ]
  },
  {
   "cell_type": "markdown",
   "id": "9f9f8eef",
   "metadata": {},
   "source": [
    "Require 5"
   ]
  },
  {
   "cell_type": "markdown",
   "id": "e651155d",
   "metadata": {},
   "source": [
    "Sau khi huấn luyện mô hình, có một số cách để cải thiện độ chính xác:\n",
    "\n",
    "1. **Phân tích lỗi**: Xem xét các trường hợp mà mô hình dự đoán sai. Điều này có thể giúp bạn hiểu được mô hình mắc lỗi ở đâu và tìm ra cách để cải thiện nó.\n",
    "\n",
    "2. **Tinh chỉnh mô hình**: Điều chỉnh các tham số của mô hình, như số lượng và kích thước của các lớp ẩn, tốc độ học, và các tham số khác. Bạn cũng có thể thử sử dụng các kỹ thuật regularization khác nhau để tránh overfitting.\n",
    "\n",
    "3. **Thu thập thêm dữ liệu**: Nếu có thể, thu thập thêm dữ liệu có thể giúp cải thiện độ chính xác của mô hình. Bạn cũng có thể thử sử dụng các kỹ thuật tăng cường dữ liệu (data augmentation) để tạo ra thêm dữ liệu huấn luyện.\n",
    "\n",
    "4. **Thử sử dụng một mô hình khác**: Đôi khi, một mô hình khác có thể hoạt động tốt hơn trên dữ liệu của bạn. Bạn có thể thử sử dụng các mô hình khác nhau và xem mô hình nào hoạt động tốt nhất."
   ]
  },
  {
   "cell_type": "markdown",
   "id": "3371e772",
   "metadata": {},
   "source": [
    "Để phân tích các trường hợp sai, ta cần thu thập dữ liệu về các trường hợp đó. Dữ liệu này có thể bao gồm:\n",
    "\n",
    "+ Kết quả dự đoán của mô hình\n",
    "+ Kết quả thực tế\n",
    "+ Thông tin về dữ liệu đầu vào\n",
    "\n",
    "Từ dữ liệu này, ta có thể phân tích các trường hợp sai theo các tiêu chí sau:\n",
    "\n",
    "+ **Loại sai sót**: Có bao nhiêu loại sai sót khác nhau? Sai sót nào phổ biến nhất?\n",
    "+ **Nguyên nhân của sai sót**: Sai sót là do đâu? Do dữ liệu huấn luyện không đầy đủ, không chính xác, hay do cấu trúc mô hình không phù hợp?\n",
    "+ **Ảnh hưởng của sai só**t: Sai sót có ảnh hưởng gì đến kết quả dự đoán?\n",
    "Đề ra giải pháp\n",
    "\n",
    "Sau khi phân tích các trường hợp sai, ta có thể đề ra các giải pháp để khắc phục vấn đề. Các giải pháp này có thể bao gồm:\n",
    "\n",
    "+ **Tăng cường dữ liệu huấn luyện**: Thêm dữ liệu mới, hoặc sử dụng các kỹ thuật data augmentation để tạo ra các dữ liệu mới từ dữ liệu cũ.\n",
    "+ **Sử dụng các kỹ thuật regularizarion**: Giúp giảm thiểu phương sai của mô hình, từ đó cải thiện khả năng tổng quát hóa của mô hình.\n",
    "+ **Thay đổi cấu trúc mô hình**: Thay đổi cấu trúc mô hình để cải thiện khả năng học hỏi của mô hình.\n",
    "Thực hiện giải pháp\n",
    "\n",
    "Sau khi đề ra giải pháp, ta cần thực hiện giải pháp đó trên mô hình. Ta cần theo dõi kết quả của mô hình sau khi áp dụng giải pháp để đánh giá xem giải pháp có hiệu quả hay không."
   ]
  },
  {
   "cell_type": "code",
   "execution_count": 67,
   "id": "f1a7b952",
   "metadata": {},
   "outputs": [
    {
     "name": "stdout",
     "output_type": "stream",
     "text": [
      "Predicted values: [1 1 1 1 1 1 1 1 1 1]\n",
      "Accuracy on Training Set (KNN): 0.9840566873339238\n",
      "Number of errors:  36\n",
      "Actual value:  1\n",
      "Predicted value:  0\n",
      "-----\n",
      "Actual value:  0\n",
      "Predicted value:  1\n",
      "-----\n",
      "Actual value:  0\n",
      "Predicted value:  1\n",
      "-----\n",
      "Actual value:  1\n",
      "Predicted value:  0\n",
      "-----\n",
      "Actual value:  0\n",
      "Predicted value:  1\n",
      "-----\n",
      "Actual value:  0\n",
      "Predicted value:  1\n",
      "-----\n",
      "Actual value:  0\n",
      "Predicted value:  1\n",
      "-----\n",
      "Actual value:  0\n",
      "Predicted value:  1\n",
      "-----\n",
      "Actual value:  0\n",
      "Predicted value:  1\n",
      "-----\n",
      "Actual value:  0\n",
      "Predicted value:  1\n",
      "-----\n",
      "Predicted values: [1 1 1 0 1 0 1 1 1 1]\n",
      "Accuracy on Test Set (KNN): 0.9646017699115044\n",
      "Number of errors:  20\n",
      "Actual value:  0\n",
      "Predicted value:  1\n",
      "-----\n",
      "Actual value:  0\n",
      "Predicted value:  1\n",
      "-----\n",
      "Actual value:  1\n",
      "Predicted value:  0\n",
      "-----\n",
      "Actual value:  0\n",
      "Predicted value:  1\n",
      "-----\n",
      "Actual value:  0\n",
      "Predicted value:  1\n",
      "-----\n",
      "Actual value:  1\n",
      "Predicted value:  0\n",
      "-----\n",
      "Actual value:  0\n",
      "Predicted value:  1\n",
      "-----\n",
      "Actual value:  0\n",
      "Predicted value:  1\n",
      "-----\n",
      "Actual value:  0\n",
      "Predicted value:  1\n",
      "-----\n",
      "Actual value:  1\n",
      "Predicted value:  0\n",
      "-----\n"
     ]
    }
   ],
   "source": [
    "#  knnqua các bước  phân tích lỗi sau khi huấn luyện, phân tích các trường hợp sai và thực hiện nó, cuối cùng lại đánh giá xem có cải tiến hay không\n",
    "knn_model = KNeighborsClassifier()\n",
    "\n",
    "# Đánh giá mô hình trên tập huấn luyện\n",
    "knn_model.fit(X_train_processed, y_train)\n",
    "#dự đoán kết quả\n",
    "y_pred_train = knn_model.predict(X_train_processed)\n",
    "print(\"Predicted values:\", y_pred_train[:10])\n",
    "accuracy_train = accuracy_score(y_train, y_pred_train)\n",
    "print(\"Accuracy on Training Set (KNN):\", accuracy_train)\n",
    "#lấy các trường hợp sai\n",
    "errors=np.where(y_pred_train!=y_train)[0]\n",
    "print(\"Number of errors: \", len(errors))\n",
    "\n",
    "#Phân tích các trường hợp sai\n",
    "# Xem xét một số trường hợp sai trên tập huấn luyện\n",
    "for i in errors[:10]:  # chỉ xem xét 10 trường hợp sai đầu tiên\n",
    "    print(\"Actual value: \", y_train.iloc[i])#y_train PD.Series\n",
    "    print(\"Predicted value: \", y_pred_train[i])\n",
    "    print(\"-----\")\n",
    "\n",
    "# Đánh giá mô hình trên tập kiểm tra\n",
    "y_pred_test = knn_model.predict(X_test_processed)\n",
    "print(\"Predicted values:\", y_pred_test[:10])\n",
    "accuracy_test = accuracy_score(y_test, y_pred_test)\n",
    "print(\"Accuracy on Test Set (KNN):\", accuracy_test)\n",
    "#lấy các trường hợp sai\n",
    "errors=np.where(y_pred_test!=y_test)[0]\n",
    "print(\"Number of errors: \", len(errors))\n",
    "\n",
    "#Phân tích các trường hợp sai\n",
    "for i in errors[:10]:  # chỉ xem xét 10 trường hợp sai đầu tiên trên tập kiểm tra\n",
    "    print(\"Actual value: \", y_test.iloc[i])#y_train PD.Series , actual value \n",
    "    print(\"Predicted value: \", y_pred_test[i])\n",
    "    print(\"-----\")"
   ]
  },
  {
   "cell_type": "code",
   "execution_count": 68,
   "id": "d2508b62",
   "metadata": {},
   "outputs": [
    {
     "name": "stdout",
     "output_type": "stream",
     "text": [
      "Confusion Matrix:\n",
      "[[ 126   27]\n",
      " [   9 2096]]\n"
     ]
    },
    {
     "data": {
      "image/png": "[encoded data removed]",
      "text/plain": [
       "<Figure size 640x480 with 1 Axes>"
      ]
     },
     "metadata": {},
     "output_type": "display_data"
    }
   ],
   "source": [
    "from sklearn.metrics import confusion_matrix, roc_curve, auc\n",
    "import matplotlib.pyplot as plt\n",
    "\n",
    "# Tạo ma trận nhầm lẫn\n",
    "cm = confusion_matrix(y_train, y_pred_train)\n",
    "print(\"Confusion Matrix:\")\n",
    "print(cm)\n",
    "\n",
    "# Tính các giá trị cho ROC curve và AUC\n",
    "fpr, tpr, thresholds = roc_curve(y_train.astype(int), y_pred_train.astype(int))\n",
    "roc_auc = auc(fpr, tpr)\n",
    "\n",
    "# Vẽ ROC curve\n",
    "plt.figure()\n",
    "plt.plot(fpr, tpr, color='darkorange', lw=1, label='ROC curve (area = %0.2f)' % roc_auc)\n",
    "plt.plot([0, 1], [0, 1], color='navy', lw=1, linestyle='--')\n",
    "plt.xlim([0.0, 1.0])\n",
    "plt.ylim([0.0, 1.05])\n",
    "plt.xlabel('False Positive Rate')\n",
    "plt.ylabel('True Positive Rate')\n",
    "plt.title('Receiver Operating Characteristic')\n",
    "plt.legend(loc=\"lower right\")\n",
    "plt.show()"
   ]
  },
  {
   "cell_type": "markdown",
   "id": "1e54cdb6",
   "metadata": {},
   "source": [
    "Ta có thể thấy diện tích dưới ROC curve (AUC) gần với 1 nên mô hình có khả năng phân loại tốt hơn so với việc dự đoán ngẫu nhiên.\n",
    "\n",
    "Vì vậy nên chỉ cần Tinh chỉnh tham số K trong KNN để mô hình được tối ưu nhất."
   ]
  },
  {
   "cell_type": "code",
   "execution_count": 69,
   "id": "4059fd3b",
   "metadata": {},
   "outputs": [
    {
     "data": {
      "image/png": "[encoded data removed]",
      "text/plain": [
       "<Figure size 1000x600 with 1 Axes>"
      ]
     },
     "metadata": {},
     "output_type": "display_data"
    }
   ],
   "source": [
    "#Cải thiện mô hình\n",
    "# Tinh chỉnh tham số K bằng cross-validation\n",
    "\n",
    "from sklearn.model_selection import cross_val_score\n",
    "\n",
    "k_values = range(1, 10)\n",
    "mean_accuracy_scores = []\n",
    "\n",
    "for k in k_values:\n",
    "    knn_model = KNeighborsClassifier(n_neighbors=k)\n",
    "    scores = cross_val_score(knn_model, X_train_processed, y_train, cv=5, scoring='accuracy')\n",
    "    mean_accuracy_scores.append(scores.mean())\n",
    "\n",
    "# Vẽ đường cong độ chính xác\n",
    "plt.figure(figsize=(10, 6))\n",
    "plt.plot(k_values, mean_accuracy_scores, marker='o')\n",
    "plt.xlabel('K')\n",
    "plt.ylabel('Accuracy')\n",
    "plt.title('Accuracy vs K')\n",
    "plt.xticks(k_values)\n",
    "plt.show()"
   ]
  },
  {
   "cell_type": "markdown",
   "id": "87fc06f9",
   "metadata": {},
   "source": [
    "Như vậy, có thể thấy K=3 là giá trị láng giềng tốt nhất và đã cải thiện được mô hình so với ban đầu là k mặc định là 5 "
   ]
  }
 ],
 "metadata": {
  "kernelspec": {
   "display_name": "ML-KERNEL",
   "language": "python",
   "name": "ml-kernel"
  },
  "language_info": {
   "codemirror_mode": {
    "name": "ipython",
    "version": 3
   },
   "file_extension": ".py",
   "mimetype": "text/x-python",
   "name": "python",
   "nbconvert_exporter": "python",
   "pygments_lexer": "ipython3",
   "version": "3.10.3"
  }
 },
 "nbformat": 4,
 "nbformat_minor": 5
}
