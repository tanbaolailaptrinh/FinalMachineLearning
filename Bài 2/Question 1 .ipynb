{
 "cells": [
  {
   "cell_type": "code",
   "execution_count": 1,
   "id": "d03e3dbc",
   "metadata": {},
   "outputs": [],
   "source": [
    "#521H0438_NGUYỄN TẤN BẢO\n"
   ]
  },
  {
   "cell_type": "code",
   "execution_count": null,
   "id": "c1ec6eaf",
   "metadata": {},
   "outputs": [],
   "source": []
  }
 ],
 "metadata": {
  "kernelspec": {
   "display_name": "Python 3 (ipykernel)",
   "language": "python",
   "name": "python3"
  },
  "language_info": {
   "codemirror_mode": {
    "name": "ipython",
    "version": 3
   },
   "file_extension": ".py",
   "mimetype": "text/x-python",
   "name": "python",
   "nbconvert_exporter": "python",
   "pygments_lexer": "ipython3",
   "version": "3.11.5"
  }
 },
 "nbformat": 4,
 "nbformat_minor": 5
}
